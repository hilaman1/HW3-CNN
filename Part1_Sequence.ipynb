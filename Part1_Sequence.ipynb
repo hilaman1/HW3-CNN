{
 "cells": [
  {
   "cell_type": "markdown",
   "metadata": {},
   "source": [
    "# 0: Google Colab Setup\n",
    "If you run this notebook on Google Colab: \n",
    "1. uncomment the following code cells\n",
    "2. mount google drive\n",
    "3. locate you folder and modify the path in os.chdir()\n",
    "4. change your working directory to the Google Drive folder\n",
    "5. verify hw3 import is successfull"
   ]
  },
  {
   "cell_type": "code",
   "execution_count": null,
   "metadata": {},
   "outputs": [],
   "source": [
    "# from google.colab import drive\n",
    "# drive.mount('/content/drive')"
   ]
  },
  {
   "cell_type": "code",
   "execution_count": null,
   "metadata": {},
   "outputs": [],
   "source": [
    "# import os\n",
    "# os.chdir(\"/content/drive/MyDrive/MyDLCourse/hw3\")  # full path to your folder"
   ]
  },
  {
   "cell_type": "code",
   "execution_count": null,
   "metadata": {},
   "outputs": [],
   "source": [
    "# import hw3  # check correctness"
   ]
  },
  {
   "cell_type": "markdown",
   "metadata": {},
   "source": [
    "$$\n",
    "\\newcommand{\\mat}[1]{\\boldsymbol {#1}}\n",
    "\\newcommand{\\mattr}[1]{\\boldsymbol {#1}^\\top}\n",
    "\\newcommand{\\matinv}[1]{\\boldsymbol {#1}^{-1}}\n",
    "\\newcommand{\\vec}[1]{\\boldsymbol {#1}}\n",
    "\\newcommand{\\vectr}[1]{\\boldsymbol {#1}^\\top}\n",
    "\\newcommand{\\rvar}[1]{\\mathrm {#1}}\n",
    "\\newcommand{\\rvec}[1]{\\boldsymbol{\\mathrm{#1}}}\n",
    "\\newcommand{\\diag}{\\mathop{\\mathrm {diag}}}\n",
    "\\newcommand{\\set}[1]{\\mathbb {#1}}\n",
    "\\newcommand{\\norm}[1]{\\left\\lVert#1\\right\\rVert}\n",
    "\\newcommand{\\pderiv}[2]{\\frac{\\partial #1}{\\partial #2}}\n",
    "\\newcommand{\\bb}[1]{\\boldsymbol{#1}}\n",
    "$$\n",
    "# Part 1: Sequence Models\n",
    "<a id=part1></a>"
   ]
  },
  {
   "cell_type": "markdown",
   "metadata": {},
   "source": [
    "In this part we will learn about working with text sequences using recurrent neural networks.\n",
    "We'll go from a raw text file all the way to a fully trained GRU-RNN model and generate works of art!"
   ]
  },
  {
   "cell_type": "code",
   "execution_count": 1,
   "metadata": {
    "ExecuteTime": {
     "start_time": "2023-06-28T22:21:29.783267Z",
     "end_time": "2023-06-28T22:21:32.004121Z"
    }
   },
   "outputs": [],
   "source": [
    "import unittest\n",
    "import os\n",
    "import sys\n",
    "import pathlib\n",
    "import urllib\n",
    "import shutil\n",
    "import re\n",
    "\n",
    "import numpy as np\n",
    "import torch\n",
    "import matplotlib.pyplot as plt\n",
    "\n",
    "%load_ext autoreload\n",
    "%autoreload 2\n",
    "\n",
    "test = unittest.TestCase()\n",
    "plt.rcParams.update({'font.size': 12})"
   ]
  },
  {
   "cell_type": "code",
   "execution_count": 2,
   "metadata": {
    "ExecuteTime": {
     "start_time": "2023-06-28T22:21:33.392776Z",
     "end_time": "2023-06-28T22:21:33.464127Z"
    }
   },
   "outputs": [
    {
     "name": "stdout",
     "output_type": "stream",
     "text": [
      "1.8.2+cu111\n",
      "Using device: cuda\n"
     ]
    }
   ],
   "source": [
    "# Make sure you are using GPU\n",
    "device = torch.device('cuda' if torch.cuda.is_available() else 'cpu')\n",
    "print(torch.__version__)\n",
    "print('Using device:', device)"
   ]
  },
  {
   "cell_type": "markdown",
   "metadata": {},
   "source": [
    "## Text generation with a char-level RNN\n",
    "<a id=part1_1></a>"
   ]
  },
  {
   "cell_type": "markdown",
   "metadata": {},
   "source": [
    "### Obtaining the corpus\n",
    "<a id=part1_2></a>"
   ]
  },
  {
   "cell_type": "markdown",
   "metadata": {},
   "source": [
    "Let's begin by downloading a corpus containing all the works of William Shakespeare.\n",
    "Since he was very prolific, this corpus is fairly large and will provide us with enough data for\n",
    "obtaining impressive results."
   ]
  },
  {
   "cell_type": "code",
   "execution_count": 3,
   "metadata": {
    "ExecuteTime": {
     "start_time": "2023-06-28T22:21:36.866696Z",
     "end_time": "2023-06-28T22:21:36.910226Z"
    }
   },
   "outputs": [
    {
     "name": "stdout",
     "output_type": "stream",
     "text": [
      "Corpus file C:\\Users\\Guy\\.pytorch-datasets\\shakespeare.txt exists, skipping download.\n"
     ]
    }
   ],
   "source": [
    "CORPUS_URL = 'https://github.com/cedricdeboom/character-level-rnn-datasets/raw/master/datasets/shakespeare.txt'\n",
    "DATA_DIR = pathlib.Path.home().joinpath('.pytorch-datasets')\n",
    "\n",
    "def download_corpus(out_path=DATA_DIR, url=CORPUS_URL, force=False):\n",
    "    pathlib.Path(out_path).mkdir(exist_ok=True)\n",
    "    out_filename = os.path.join(out_path, os.path.basename(url))\n",
    "    \n",
    "    if os.path.isfile(out_filename) and not force:\n",
    "        print(f'Corpus file {out_filename} exists, skipping download.')\n",
    "    else:\n",
    "        print(f'Downloading {url}...')\n",
    "        with urllib.request.urlopen(url) as response, open(out_filename, 'wb') as out_file:\n",
    "            shutil.copyfileobj(response, out_file)\n",
    "        print(f'Saved to {out_filename}.')\n",
    "    return out_filename\n",
    "    \n",
    "corpus_path = download_corpus()"
   ]
  },
  {
   "cell_type": "markdown",
   "metadata": {},
   "source": [
    "Load the text into memory and print a snippet:"
   ]
  },
  {
   "cell_type": "code",
   "execution_count": 4,
   "metadata": {
    "ExecuteTime": {
     "start_time": "2023-06-28T22:21:39.914672Z",
     "end_time": "2023-06-28T22:21:39.967043Z"
    }
   },
   "outputs": [
    {
     "name": "stdout",
     "output_type": "stream",
     "text": [
      "Corpus length: 6347705 chars\n",
      "\n",
      "\n",
      "ALLS WELL THAT ENDS WELL\n",
      "\n",
      "by William Shakespeare\n",
      "\n",
      "Dramatis Personae\n",
      "\n",
      "  KING OF FRANCE\n",
      "  THE DUKE OF FLORENCE\n",
      "  BERTRAM, Count of Rousillon\n",
      "  LAFEU, an old lord\n",
      "  PAROLLES, a follower of Bertram\n",
      "  TWO FRENCH LORDS, serving with Bertram\n",
      "\n",
      "  STEWARD, Servant to the Countess of Rousillon\n",
      "  LAVACHE, a clown and Servant to the Countess of Rousillon\n",
      "  A PAGE, Servant to the Countess of Rousillon\n",
      "\n",
      "  COUNTESS OF ROUSILLON, mother to Bertram\n",
      "  HELENA, a gentlewoman protected by the Countess\n",
      "  A WIDOW OF FLORENCE.\n",
      "  DIANA, daughter to the Widow\n",
      "\n",
      "  VIOLENTA, neighbour and friend to the Widow\n",
      "  MARIANA, neighbour and friend to the Widow\n",
      "\n",
      "  Lords, Officers, Soldiers, etc., French and Florentine  \n",
      "\n",
      "SCENE:\n",
      "Rousillon; Paris; Florence; Marseilles\n",
      "\n",
      "ACT I. SCENE 1.\n",
      "Rousillon. The COUNT'S palace\n",
      "\n",
      "Enter BERTRAM, the COUNTESS OF ROUSILLON, HELENA, and LAFEU, all in black\n",
      "\n",
      "  COUNTESS. In delivering my son from me, I bury a second husband.\n",
      "  BERTRAM. And I in going, madam, weep o'er my father's death anew;\n",
      "    but I must attend his Majesty's command, to whom I am now in\n",
      "    ward, evermore in subjection.\n",
      "  LAFEU. You shall find of the King a husband, madam; you, sir, a\n",
      "    father. He that so generally is at all times good must of\n",
      "  \n"
     ]
    }
   ],
   "source": [
    "with open(corpus_path, 'r') as f:\n",
    "    corpus = f.read()\n",
    "\n",
    "print(f'Corpus length: {len(corpus)} chars')\n",
    "print(corpus[7:1234])"
   ]
  },
  {
   "cell_type": "markdown",
   "metadata": {},
   "source": [
    "### Data Preprocessing\n",
    "<a id=part1_3></a>"
   ]
  },
  {
   "cell_type": "markdown",
   "metadata": {},
   "source": [
    "The first thing we'll need is to map from each unique character in the corpus to an index that will represent it in our learning process.\n",
    "\n",
    "**TODO**: Implement the `char_maps()` function in the `hw3/charnn.py` module."
   ]
  },
  {
   "cell_type": "code",
   "execution_count": 7,
   "metadata": {
    "ExecuteTime": {
     "start_time": "2023-06-28T22:24:14.097207Z",
     "end_time": "2023-06-28T22:24:14.159752Z"
    }
   },
   "outputs": [
    {
     "name": "stdout",
     "output_type": "stream",
     "text": [
      "{'\\n': 0, ' ': 1, '!': 2, '\"': 3, '&': 4, \"'\": 5, '(': 6, ')': 7, ',': 8, '-': 9, '.': 10, '0': 11, '1': 12, '2': 13, '3': 14, '4': 15, '5': 16, '6': 17, '7': 18, '8': 19, '9': 20, ':': 21, ';': 22, '?': 23, 'A': 24, 'B': 25, 'C': 26, 'D': 27, 'E': 28, 'F': 29, 'G': 30, 'H': 31, 'I': 32, 'J': 33, 'K': 34, 'L': 35, 'M': 36, 'N': 37, 'O': 38, 'P': 39, 'Q': 40, 'R': 41, 'S': 42, 'T': 43, 'U': 44, 'V': 45, 'W': 46, 'X': 47, 'Y': 48, 'Z': 49, '[': 50, ']': 51, 'a': 52, 'b': 53, 'c': 54, 'd': 55, 'e': 56, 'f': 57, 'g': 58, 'h': 59, 'i': 60, 'j': 61, 'k': 62, 'l': 63, 'm': 64, 'n': 65, 'o': 66, 'p': 67, 'q': 68, 'r': 69, 's': 70, 't': 71, 'u': 72, 'v': 73, 'w': 74, 'x': 75, 'y': 76, 'z': 77, '»': 78, '¿': 79, 'ן': 80}\n"
     ]
    }
   ],
   "source": [
    "import hw3.charnn as charnn\n",
    "\n",
    "char_to_idx, idx_to_char = charnn.char_maps(corpus)\n",
    "print(char_to_idx)\n",
    "\n",
    "test.assertEqual(len(char_to_idx), len(idx_to_char))\n",
    "test.assertSequenceEqual(list(char_to_idx.keys()), list(idx_to_char.values()))\n",
    "test.assertSequenceEqual(list(char_to_idx.values()), list(idx_to_char.keys()))"
   ]
  },
  {
   "cell_type": "markdown",
   "metadata": {},
   "source": [
    "Seems we have some strange characters in the corpus that are very rare and are probably due to mistakes.\n",
    "To reduce the length of each tensor we'll need to later represent our chars, it's best to remove them.\n",
    "\n",
    "**TODO**: Implement the `remove_chars()` function in the `hw3/charnn.py` module."
   ]
  },
  {
   "cell_type": "code",
   "execution_count": 8,
   "metadata": {
    "ExecuteTime": {
     "start_time": "2023-06-28T22:24:46.147150Z",
     "end_time": "2023-06-28T22:24:49.822314Z"
    }
   },
   "outputs": [
    {
     "name": "stdout",
     "output_type": "stream",
     "text": [
      "Removed 0 chars\n"
     ]
    }
   ],
   "source": [
    "corpus, n_removed = charnn.remove_chars(corpus, ['}','$','_','<','\\ufeff'])\n",
    "print(f'Removed {n_removed} chars')\n",
    "\n",
    "# After removing the chars, re-create the mappings\n",
    "char_to_idx, idx_to_char = charnn.char_maps(corpus)"
   ]
  },
  {
   "cell_type": "markdown",
   "metadata": {},
   "source": [
    "The next thing we need is an **embedding** of the chracters.\n",
    "An embedding is a representation of each token from the sequence as a tensor.\n",
    "For a char-level RNN, our tokens will be chars and we can thus use the simplest possible embedding: encode each char as a **one-hot** tensor. In other words, each char will be represented\n",
    "as a tensor whos length is the total number of unique chars (`V`) which contains all zeros except at the index\n",
    "corresponding to that specific char.\n",
    "\n",
    "**TODO**: Implement the functions `chars_to_onehot()` and `onehot_to_chars()` in the `hw3/charnn.py` module."
   ]
  },
  {
   "cell_type": "code",
   "execution_count": 9,
   "metadata": {
    "ExecuteTime": {
     "start_time": "2023-06-28T22:25:28.655161Z",
     "end_time": "2023-06-28T22:25:28.702041Z"
    }
   },
   "outputs": [
    {
     "name": "stdout",
     "output_type": "stream",
     "text": [
      "st brine a maiden can season her praise in.\n",
      "\n",
      "tensor([[0, 0, 0, 0, 0, 0, 0, 0, 0, 0, 0, 0, 0, 0, 0, 0, 0, 0, 0, 0, 0, 0, 0, 0,\n",
      "         0, 0, 0, 0, 0, 0, 0, 0, 0, 0, 0, 0, 0, 0, 0, 0, 0, 0, 0, 0, 0, 0, 0, 0,\n",
      "         0, 0, 0, 0, 0, 0, 0, 0, 0, 0, 0, 0, 0, 0, 0, 0, 0, 0, 0, 0, 0, 0, 1, 0,\n",
      "         0, 0, 0, 0, 0, 0, 0, 0, 0],\n",
      "        [0, 0, 0, 0, 0, 0, 0, 0, 0, 0, 0, 0, 0, 0, 0, 0, 0, 0, 0, 0, 0, 0, 0, 0,\n",
      "         0, 0, 0, 0, 0, 0, 0, 0, 0, 0, 0, 0, 0, 0, 0, 0, 0, 0, 0, 0, 0, 0, 0, 0,\n",
      "         0, 0, 0, 0, 0, 0, 0, 0, 0, 0, 0, 0, 0, 0, 0, 0, 0, 0, 0, 0, 0, 0, 0, 1,\n",
      "         0, 0, 0, 0, 0, 0, 0, 0, 0],\n",
      "        [0, 1, 0, 0, 0, 0, 0, 0, 0, 0, 0, 0, 0, 0, 0, 0, 0, 0, 0, 0, 0, 0, 0, 0,\n",
      "         0, 0, 0, 0, 0, 0, 0, 0, 0, 0, 0, 0, 0, 0, 0, 0, 0, 0, 0, 0, 0, 0, 0, 0,\n",
      "         0, 0, 0, 0, 0, 0, 0, 0, 0, 0, 0, 0, 0, 0, 0, 0, 0, 0, 0, 0, 0, 0, 0, 0,\n",
      "         0, 0, 0, 0, 0, 0, 0, 0, 0]], dtype=torch.int8)\n"
     ]
    }
   ],
   "source": [
    "# Wrap the actual embedding functions for calling convenience\n",
    "def embed(text):\n",
    "    return charnn.chars_to_onehot(text, char_to_idx)\n",
    "\n",
    "def unembed(embedding):\n",
    "    return charnn.onehot_to_chars(embedding, idx_to_char)\n",
    "\n",
    "text_snippet = corpus[3104:3148]\n",
    "print(text_snippet)\n",
    "print(embed(text_snippet[0:3]))\n",
    "\n",
    "test.assertEqual(text_snippet, unembed(embed(text_snippet)))\n",
    "test.assertEqual(embed(text_snippet).dtype, torch.int8)"
   ]
  },
  {
   "cell_type": "markdown",
   "metadata": {},
   "source": [
    "### Dataset Creation\n",
    "<a id=part1_4></a>"
   ]
  },
  {
   "cell_type": "markdown",
   "metadata": {},
   "source": [
    "We wish to train our model to generate text by constantly predicting what the next char should be based on the past.\n",
    "To that end we'll need to train our recurrent network in a way similar to a classification task. At each timestep, we input a char and set the expected output (label) to be the next char in the original sequence.\n",
    "\n",
    "We will split our corpus into shorter sequences of length `S` chars (try to think why; see question below).\n",
    "Each **sample** we provide our model with will therefore be a tensor of shape `(S,V)` where `V` is the embedding dimension. Our model will operate sequentially on each char in the sequence.\n",
    "For each sample, we'll also need a **label**. This is simple another sequence, shifted by one char so that the label of each char is the next char in the corpus.\n",
    "\n",
    "**TODO**: Implement the `chars_to_labelled_samples()` function in the `hw3/charnn.py` module."
   ]
  },
  {
   "cell_type": "code",
   "execution_count": 10,
   "metadata": {
    "ExecuteTime": {
     "start_time": "2023-06-28T22:28:38.118278Z",
     "end_time": "2023-06-28T22:29:02.915105Z"
    }
   },
   "outputs": [
    {
     "name": "stdout",
     "output_type": "stream",
     "text": [
      "samples shape: torch.Size([99182, 64, 81])\n",
      "labels shape: torch.Size([99182, 64])\n",
      "sample 100 as text:\n",
      "rginity, though valiant in the\n",
      "    defence, yet is weak. Unfold \n"
     ]
    }
   ],
   "source": [
    "# Create dataset of sequences\n",
    "seq_len = 64\n",
    "vocab_len = len(char_to_idx)\n",
    "\n",
    "# Create labelled samples\n",
    "samples, labels = charnn.chars_to_labelled_samples(corpus, char_to_idx, seq_len, device)\n",
    "print(f'samples shape: {samples.shape}')\n",
    "print(f'labels shape: {labels.shape}')\n",
    "\n",
    "# Test shapes\n",
    "num_samples = (len(corpus) - 1) // seq_len\n",
    "test.assertEqual(samples.shape, (num_samples, seq_len, vocab_len))\n",
    "test.assertEqual(labels.shape, (num_samples, seq_len))\n",
    "\n",
    "# Test content\n",
    "for _ in range(1000):\n",
    "    # random sample\n",
    "    i = np.random.randint(num_samples, size=(1,))[0]\n",
    "    # Compare to corpus\n",
    "    test.assertEqual(unembed(samples[i]), corpus[i*seq_len:(i+1)*seq_len], msg=f\"content mismatch in sample {i}\")\n",
    "    # Compare to labels\n",
    "    sample_text = unembed(samples[i])\n",
    "    label_text = str.join('', [idx_to_char[j.item()] for j in labels[i]])\n",
    "    test.assertEqual(sample_text[1:], label_text[0:-1], msg=f\"label mismatch in sample {i}\")\n",
    "    \n",
    "print(f'sample 100 as text:\\n{unembed(samples[100])}')"
   ]
  },
  {
   "cell_type": "markdown",
   "metadata": {},
   "source": [
    "As usual, instead of feeding one sample as a time into our model's forward we'll work with **batches** of samples. This means that at every timestep, our model will operate on a batch of chars that are from **different sequences**.\n",
    "Effectively this will allow us to parallelize training our model by dong matrix-matrix multiplications\n",
    "instead of matrix-vector during the forward pass.\n",
    "\n",
    "Let's use the standard PyTorch `Dataset`/`DataLoader` combo. Luckily for the dataset we can use a built-in\n",
    "class, `TensorDataset` to return tuples of `(sample, label)` from the `samples` and `labels` tensors we created above."
   ]
  },
  {
   "cell_type": "code",
   "execution_count": 11,
   "metadata": {
    "ExecuteTime": {
     "start_time": "2023-06-28T22:29:29.506706Z",
     "end_time": "2023-06-28T22:29:29.537962Z"
    }
   },
   "outputs": [],
   "source": [
    "import torch.utils.data\n",
    "\n",
    "# Create DataLoader returning batches of samples.\n",
    "batch_size = 32\n",
    "\n",
    "ds_corpus = torch.utils.data.TensorDataset(samples, labels)\n",
    "dl_corpus = torch.utils.data.DataLoader(ds_corpus, batch_size=batch_size, shuffle=False)"
   ]
  },
  {
   "cell_type": "markdown",
   "metadata": {},
   "source": [
    "Let's see what that gives us:"
   ]
  },
  {
   "cell_type": "code",
   "execution_count": 12,
   "metadata": {
    "ExecuteTime": {
     "start_time": "2023-06-28T22:29:40.443387Z",
     "end_time": "2023-06-28T22:29:40.495078Z"
    }
   },
   "outputs": [
    {
     "name": "stdout",
     "output_type": "stream",
     "text": [
      "num batches: 3100\n",
      "shape of a batch sample: torch.Size([32, 64, 81])\n",
      "shape of a batch label: torch.Size([32, 64])\n"
     ]
    }
   ],
   "source": [
    "print(f'num batches: {len(dl_corpus)}')\n",
    "\n",
    "x0, y0 = next(iter(dl_corpus))\n",
    "print(f'shape of a batch sample: {x0.shape}')\n",
    "print(f'shape of a batch label: {y0.shape}')"
   ]
  },
  {
   "cell_type": "markdown",
   "metadata": {},
   "source": [
    "### Model Implementation\n",
    "<a id=part1_5></a>"
   ]
  },
  {
   "cell_type": "markdown",
   "metadata": {},
   "source": [
    "Finally, our data set is ready so we can focus on our model.\n",
    "\n",
    "We'll implement here is a multilayer gated recurrent unit (GRU) model, with dropout.\n",
    "This model is a type of RNN which performs similar to the well-known LSTM model,\n",
    "but it's somewhat easier to train because it has less parameters.\n",
    "We'll modify the regular GRU slightly by applying dropout to\n",
    "the hidden states passed between layers of the model.\n",
    "\n",
    "The model accepts an input $\\mat{X}\\in\\set{R}^{S\\times V}$ containing a sequence of embedded chars.\n",
    "It returns an output $\\mat{Y}\\in\\set{R}^{S\\times V}$ of predictions for the next char and the final hidden state\n",
    "$\\mat{H}\\in\\set{R}^{L\\times H}$. Here $S$ is the sequence length, $V$ is the vocabulary size (number of unique chars), $L$ is the number of layers in the model and $H$ is the hidden dimension."
   ]
  },
  {
   "cell_type": "markdown",
   "metadata": {},
   "source": [
    "Mathematically, the model's forward function at layer $k\\in[1,L]$ and timestep $t\\in[1,S]$ can be described as\n",
    "\n",
    "$$\n",
    "\\begin{align}\n",
    "\\vec{z_t}^{[k]} &= \\sigma\\left(\\vec{x}^{[k]}_t {\\mattr{W}_{\\mathrm{xz}}}^{[k]} +\n",
    "    \\vec{h}_{t-1}^{[k]} {\\mattr{W}_{\\mathrm{hz}}}^{[k]} + \\vec{b}_{\\mathrm{z}}^{[k]}\\right) \\\\\n",
    "\\vec{r_t}^{[k]} &= \\sigma\\left(\\vec{x}^{[k]}_t {\\mattr{W}_{\\mathrm{xr}}}^{[k]} +\n",
    "    \\vec{h}_{t-1}^{[k]} {\\mattr{W}_{\\mathrm{hr}}}^{[k]} + \\vec{b}_{\\mathrm{r}}^{[k]}\\right) \\\\\n",
    "\\vec{g_t}^{[k]} &= \\tanh\\left(\\vec{x}^{[k]}_t {\\mattr{W}_{\\mathrm{xg}}}^{[k]} +\n",
    "    (\\vec{r_t}^{[k]}\\odot\\vec{h}_{t-1}^{[k]}) {\\mattr{W}_{\\mathrm{hg}}}^{[k]} + \\vec{b}_{\\mathrm{g}}^{[k]}\\right) \\\\\n",
    "\\vec{h_t}^{[k]} &= \\vec{z}^{[k]}_t \\odot \\vec{h}^{[k]}_{t-1} + \\left(1-\\vec{z}^{[k]}_t\\right)\\odot \\vec{g_t}^{[k]}\n",
    "\\end{align}\n",
    "$$"
   ]
  },
  {
   "cell_type": "markdown",
   "metadata": {},
   "source": [
    "The input to each layer is,\n",
    "$$\n",
    "\\mat{X}^{[k]} =\n",
    "\\begin{bmatrix}\n",
    "    {\\vec{x}_1}^{[k]} \\\\ \\vdots \\\\ {\\vec{x}_S}^{[k]}\n",
    "\\end{bmatrix} \n",
    "=\n",
    "\\begin{cases}\n",
    "    \\mat{X} & \\mathrm{if} ~k = 1~ \\\\\n",
    "    \\mathrm{dropout}_p \\left(\n",
    "    \\begin{bmatrix}\n",
    "        {\\vec{h}_1}^{[k-1]} \\\\ \\vdots \\\\ {\\vec{h}_S}^{[k-1]}\n",
    "    \\end{bmatrix} \\right) & \\mathrm{if} ~1 < k \\leq L+1~\n",
    "\\end{cases}.\n",
    "$$"
   ]
  },
  {
   "cell_type": "markdown",
   "metadata": {},
   "source": [
    "The output of the entire model is then,\n",
    "$$\n",
    "\\mat{Y} = \\mat{X}^{[L+1]} {\\mattr{W}_{\\mathrm{hy}}} + \\mat{B}_{\\mathrm{y}}\n",
    "$$"
   ]
  },
  {
   "cell_type": "markdown",
   "metadata": {},
   "source": [
    "and the final hidden state is\n",
    "$$\n",
    "\\mat{H} = \n",
    "\\begin{bmatrix}\n",
    "    {\\vec{h}_S}^{[1]} \\\\ \\vdots \\\\ {\\vec{h}_S}^{[L]}\n",
    "\\end{bmatrix}.\n",
    "$$"
   ]
  },
  {
   "cell_type": "markdown",
   "metadata": {},
   "source": [
    "Notes:\n",
    "- $t\\in[1,S]$ is the timestep, i.e. the current position within the sequence of each sample.\n",
    "- $\\vec{x}_t^{[k]}$ is the input of layer $k$ at timestep $t$, respectively.\n",
    "- The outputs of the **last layer** $\\vec{y}_t^{[L]}$, are the predicted next characters for every input char.\n",
    "  These are similar to class scores in classification tasks.\n",
    "- The hidden states at the **last timestep**, $\\vec{h}_S^{[k]}$, are the final hidden state returned from the model.\n",
    "- $\\sigma(\\cdot)$ is the sigmoid function, i.e. $\\sigma(\\vec{z}) = 1/(1+e^{-\\vec{z}})$ which returns values in $(0,1)$.\n",
    "- $\\tanh(\\cdot)$ is the hyperbolic tangent, i.e. $\\tanh(\\vec{z}) = (e^{2\\vec{z}}-1)/(e^{2\\vec{z}}+1)$ which returns values in $(-1,1)$.\n",
    "- $\\vec{h_t}^{[k]}$ is the hidden state of layer $k$ at time $t$. This can be thought of as the memory of that layer.\n",
    "- $\\vec{g_t}^{[k]}$ is the candidate hidden state for time $t+1$.\n",
    "- $\\vec{z_t}^{[k]}$ is known as the update gate. It combines the previous state with the input to determine how much the current state will be combined with the new candidate state. For example, if $\\vec{z_t}^{[k]}=\\vec{1}$ then the current input has no effect on the output.\n",
    "- $\\vec{r_t}^{[k]}$ is known as the reset gate. It combines the previous state with the input to determine how much of the previous state will affect the current state candidate. For example if $\\vec{r_t}^{[k]}=\\vec{0}$ the previous state has no effect on the current candidate state."
   ]
  },
  {
   "cell_type": "markdown",
   "metadata": {},
   "source": [
    "Here's a graphical representation of the GRU's forward pass at each timestep. The $\\vec{\\tilde{h}}$ in the image is our $\\vec{g}$ (candidate next state).\n",
    "\n",
    "<img src=\"imgs/gru_cell.png\" width=\"400\"/>\n",
    "\n",
    "You can see how the reset and update gates allow the model to completely ignore it's previous state, completely ignore it's input, or any mixture of those states (since the gates are actually continuous and between $(0,1)$)."
   ]
  },
  {
   "cell_type": "markdown",
   "metadata": {},
   "source": [
    "Here's a graphical representation of the entire model.\n",
    "You can ignore the $c_t^{[k]}$ (cell state) variables (which are relevant for LSTM models).\n",
    "Our model has only the hidden state, $h_t^{[k]}$. Also notice that we added dropout between layers (the up arrows).\n",
    "\n",
    "<img src=\"imgs/lstm_model.png\"/>\n",
    "\n",
    "The purple tensors are inputs (a sequence and initial hidden state per layer), and the green tensors are outputs (another sequence and final hidden state per layer). Each blue block implements the above forward equations.\n",
    "Blocks that are on the same vertical level are at the same layer, and therefore share parameters."
   ]
  },
  {
   "cell_type": "markdown",
   "metadata": {},
   "source": [
    "**TODO**: Implement the `MultilayerGRU` class in the `hw3/charnn.py` module.\n",
    "\n",
    "Notes:\n",
    "- You'll need to handle input **batches** now.\n",
    "  The math is identical to the above, but all the tensors will have an extra batch\n",
    "  dimension as their first dimension.\n",
    "- Use the diagram above to help guide your implementation.\n",
    "  It will help you visualize what shapes to returns where, etc.\n"
   ]
  },
  {
   "cell_type": "code",
   "execution_count": 13,
   "metadata": {
    "ExecuteTime": {
     "start_time": "2023-06-28T22:59:33.914545Z",
     "end_time": "2023-06-28T22:59:35.267602Z"
    }
   },
   "outputs": [
    {
     "name": "stdout",
     "output_type": "stream",
     "text": [
      "MultilayerGRU(\n",
      "  (xz_0): Linear(in_features=81, out_features=256, bias=False)\n",
      "  (hz_0): Linear(in_features=256, out_features=256, bias=True)\n",
      "  (xr_0): Linear(in_features=81, out_features=256, bias=False)\n",
      "  (hr_0): Linear(in_features=256, out_features=256, bias=True)\n",
      "  (xg_0): Linear(in_features=81, out_features=256, bias=False)\n",
      "  (hg_0): Linear(in_features=256, out_features=256, bias=True)\n",
      "  (dropout_0): Dropout(p=0, inplace=False)\n",
      "  (xz_1): Linear(in_features=256, out_features=256, bias=False)\n",
      "  (hz_1): Linear(in_features=256, out_features=256, bias=True)\n",
      "  (xr_1): Linear(in_features=256, out_features=256, bias=False)\n",
      "  (hr_1): Linear(in_features=256, out_features=256, bias=True)\n",
      "  (xg_1): Linear(in_features=256, out_features=256, bias=False)\n",
      "  (hg_1): Linear(in_features=256, out_features=256, bias=True)\n",
      "  (dropout_1): Dropout(p=0, inplace=False)\n",
      "  (Y): Linear(in_features=256, out_features=81, bias=True)\n",
      ")\n",
      "y.shape=torch.Size([32, 64, 81])\n",
      "h.shape=torch.Size([32, 2, 256])\n"
     ]
    }
   ],
   "source": [
    "in_dim = vocab_len\n",
    "h_dim = 256\n",
    "n_layers = 2\n",
    "model = charnn.MultilayerGRU(in_dim, h_dim, out_dim=in_dim, n_layers=n_layers)\n",
    "model = model.to(device)\n",
    "print(model)\n",
    "\n",
    "# Test forward pass\n",
    "y, h = model(x0.to(dtype=torch.float))\n",
    "print(f'y.shape={y.shape}')\n",
    "print(f'h.shape={h.shape}')\n",
    "\n",
    "test.assertEqual(y.shape, (batch_size, seq_len, vocab_len))\n",
    "test.assertEqual(h.shape, (batch_size, n_layers, h_dim))\n",
    "test.assertEqual(len(list(model.parameters())), 9 * n_layers + 2) "
   ]
  },
  {
   "cell_type": "markdown",
   "metadata": {},
   "source": [
    "### Generating text by sampling\n",
    "<a id=part1_6></a>"
   ]
  },
  {
   "cell_type": "markdown",
   "metadata": {},
   "source": [
    "Now that we have a model, we can implement **text generation** based on it.\n",
    "The idea is simple:\n",
    "At each timestep our model receives one char $x_t$ from the input sequence and outputs scores $y_t$\n",
    "for what the next char should be.\n",
    "We'll convert these scores into a probability over each of the possible chars.\n",
    "In other words, for each input char $x_t$ we create a probability distribution for the next char\n",
    "conditioned on the current one and the state of the model (representing all previous inputs):\n",
    "$$p(x_{t+1}|x_t; \\vec{h}_t).$$\n",
    "\n",
    "Once we have such a distribution, we'll sample a char from it.\n",
    "This will be the first char of our generated sequence.\n",
    "Now we can feed this new char into the model, create another distribution, sample the next char and so on.\n",
    "Note that it's crucial to propagate the hidden state when sampling.\n",
    "\n",
    "The important point however is how to create the distribution from the scores.\n",
    "One way, as we saw in previous ML tasks, is to use the softmax function.\n",
    "However, a drawback of softmax is that it can generate very diffuse (more uniform) distributions if the score values are very similar. When sampling, we would prefer to control the distributions and make them less uniform to increase the chance of sampling the char(s) with the highest scores compared to the others.\n",
    "\n",
    "To control the variance of the distribution, a common trick is to add a hyperparameter $T$, known as the \n",
    "*temperature* to the softmax function. The class scores are simply scaled by $T$ before softmax is applied:\n",
    "$$\n",
    "\\mathrm{softmax}_T(\\vec{y}) = \\frac{e^{\\vec{y}/T}}{\\sum_k e^{y_k/T}}\n",
    "$$\n",
    "\n",
    "A low $T$ will result in less uniform distributions and vice-versa."
   ]
  },
  {
   "cell_type": "markdown",
   "metadata": {},
   "source": [
    "**TODO**: Implement the `hot_softmax()` function in the `hw3/charnn.py` module."
   ]
  },
  {
   "cell_type": "code",
   "execution_count": 14,
   "metadata": {
    "ExecuteTime": {
     "start_time": "2023-06-28T23:03:44.384078Z",
     "end_time": "2023-06-28T23:03:44.635264Z"
    }
   },
   "outputs": [
    {
     "data": {
      "text/plain": "<Figure size 1500x500 with 1 Axes>",
      "image/png": "[encoded data removed]"
     },
     "metadata": {},
     "output_type": "display_data"
    }
   ],
   "source": [
    "scores = y[0,0,:].detach()\n",
    "_, ax = plt.subplots(figsize=(15,5))\n",
    "\n",
    "for t in reversed([0.3, 0.5, 1.0, 100]):\n",
    "    ax.plot(charnn.hot_softmax(scores, temperature=t).cpu().numpy(), label=f'T={t}')\n",
    "ax.set_xlabel('$x_{t+1}$')\n",
    "ax.set_ylabel('$p(x_{t+1}|x_t)$')\n",
    "ax.legend()\n",
    "\n",
    "uniform_proba = 1/len(char_to_idx)\n",
    "uniform_diff = torch.abs(charnn.hot_softmax(scores, temperature=100) - uniform_proba)\n",
    "test.assertTrue(torch.all(uniform_diff < 1e-4))"
   ]
  },
  {
   "cell_type": "markdown",
   "metadata": {},
   "source": [
    "**TODO**: Implement the `generate_from_model()` function in the `hw3/charnn.py` module."
   ]
  },
  {
   "cell_type": "code",
   "execution_count": 15,
   "metadata": {
    "ExecuteTime": {
     "start_time": "2023-06-28T23:03:53.738088Z",
     "end_time": "2023-06-28T23:03:54.042000Z"
    }
   },
   "outputs": [
    {
     "name": "stdout",
     "output_type": "stream",
     "text": [
      "foobarhQLB4p\n",
      "bzDlOxK»Hhdv4WnlbqkX»3F&7rx7Egj846Yu6\n",
      "foobar0a5;ן»lT3C¿aWn0BcP8ebwsciWY¿rihL»7gHr2eH\n",
      "qER\n",
      "foobarS:4k0Dgs.&HX]M8XpGsKqRQfnAkNmnkYFhrfo8xnS»)p\n"
     ]
    }
   ],
   "source": [
    "for _ in range(3):\n",
    "    text = charnn.generate_from_model(model, \"foobar\", 50, (char_to_idx, idx_to_char), T=0.5)\n",
    "    print(text)\n",
    "    test.assertEqual(len(text), 50)"
   ]
  },
  {
   "cell_type": "markdown",
   "metadata": {},
   "source": [
    "### Training\n",
    "<a id=part1_7></a>"
   ]
  },
  {
   "cell_type": "markdown",
   "metadata": {},
   "source": [
    "To train such a model, we'll calculate the loss at each time step by comparing the predicted char to\n",
    "the actual char from our label. We can use cross entropy since per char it's similar to a classification problem.\n",
    "We'll then sum the losses over the sequence and back-propagate the gradients though time.\n",
    "Notice that the back-propagation algorithm will \"visit\" each layer's parameter tensors multiple times,\n",
    "so we'll accumulate gradients in parameters of the blocks. Luckily `autograd` will handle this part for us."
   ]
  },
  {
   "cell_type": "markdown",
   "metadata": {},
   "source": [
    "As usual, the first step of training will be to try and **overfit** a large model (many parameters) to a tiny dataset.\n",
    "Again, this is to ensure the model and training code are implemented correctly, i.e. that the model can learn.\n",
    "\n",
    "For a generative model such as this, overfitting is slightly trickier than for for classification.\n",
    "What we'll aim to do is to get our model to **memorize** a specific sequence of chars, so that when given the first\n",
    "char in the sequence it will immediately spit out the rest of the sequence verbatim.\n",
    "\n",
    "Let's create a tiny dataset to memorize."
   ]
  },
  {
   "cell_type": "code",
   "execution_count": 18,
   "metadata": {
    "ExecuteTime": {
     "start_time": "2023-06-28T23:28:35.247366Z",
     "end_time": "2023-06-28T23:28:35.315886Z"
    }
   },
   "outputs": [
    {
     "name": "stdout",
     "output_type": "stream",
     "text": [
      "Text to \"memorize\":\n",
      "\n",
      "BERTRAM. What would you have?\n",
      "  HELENA. Something; and scarce so much; nothing, indeed.\n",
      "    I would not tell you what I would, my lord.\n",
      "    Faith, yes:\n",
      "    Strangers and foes do sunder and not kiss.\n",
      "  BERTRAM. I pray you, stay not, but in haste to horse.\n",
      " \n"
     ]
    }
   ],
   "source": [
    "# Pick a tiny subset of the dataset\n",
    "subset_start, subset_end = 1001, 1005\n",
    "ds_corpus_ss = torch.utils.data.Subset(ds_corpus, range(subset_start, subset_end))\n",
    "dl_corpus_ss = torch.utils.data.DataLoader(ds_corpus_ss, batch_size=1, shuffle=False)\n",
    "\n",
    "# Convert subset to text\n",
    "subset_text = ''\n",
    "for i in range(subset_end - subset_start):\n",
    "    subset_text += unembed(ds_corpus_ss[i][0])\n",
    "print(f'Text to \"memorize\":\\n\\n{subset_text}')"
   ]
  },
  {
   "cell_type": "markdown",
   "metadata": {},
   "source": [
    "Now let's implement the first part of our training code.\n",
    "\n",
    "**TODO**: Implement the `train_epoch()` and `train_batch()` methods of the `RNNTrainer` class in the `hw3/training.py` module. \n",
    "Note: Think about how to correctly handle the hidden state of the model between batches and epochs\n",
    "(for this specific task, i.e. text generation)."
   ]
  },
  {
   "cell_type": "code",
   "execution_count": 19,
   "metadata": {
    "ExecuteTime": {
     "start_time": "2023-06-28T23:28:51.309175Z",
     "end_time": "2023-06-28T23:29:21.171434Z"
    }
   },
   "outputs": [
    {
     "name": "stdout",
     "output_type": "stream",
     "text": [
      "\n",
      "Epoch #1: Avg. loss = 4.345, Accuracy = 16.02%\n",
      "Bwu-h .'PG; p 5E'\n",
      "a xo  'pP ]o MGPGxd 6  wc. 6w;(hn9lwdp];6EN No r?[GcojX 4do  : Ecnd ao\n",
      "cEd2c w;,L :R 6lo(d»  ;\n",
      ";G \"E;cK9] ax6 7q, ¿c¿pQ WwoP&]JP  9, hed n o dc  7. ].Rxd0  9 , dYa  7r . )o 'chK66WdR  Eo  v  K 7¿   ldd; om¿Kw d] . kzGc0'1[]0   ] aK : .n l\n",
      "\n",
      "Epoch #25: Avg. loss = 3.020, Accuracy = 22.27%\n",
      "Bso        o                                                                                                                                                                                                                                                    \n",
      "\n",
      "Epoch #50: Avg. loss = 1.637, Accuracy = 55.47%\n",
      "BRRRAM. Wou haae  ou haae  ou haneee\n",
      "     aat  ould not int, ant not int, int ints not int, int ints not int, not ints not intl not int, not int, not int, not int int ints not ints not ints not intl not int, not int int ints not int ints not int, not int i\n",
      "\n",
      "Epoch #75: Avg. loss = 0.621, Accuracy = 88.67%\n",
      "BRRRAM. What would you have?\n",
      "    Staandeee?\n",
      "    Staandeee\n",
      "\n",
      "    Staandeee?\n",
      "    Staandeee\n",
      "\n",
      "    Staandeees\n",
      "    Strangees\n",
      "    Fatlhing, ingee.\n",
      "    I would not would you hat yould yo horse.\n",
      "    I would not titl, yot hat sndeed.\n",
      "    I would not tetl you hand and\n",
      "\n",
      "Epoch #100: Avg. loss = 0.200, Accuracy = 99.61%\n",
      "BERTRAM. What would you have?\n",
      "  HELENA. Something; and scarce so much; nothing, indeed.\n",
      "    I would not tell you what I would, my lord.\n",
      "    Faith, yes:\n",
      "    Strangers and foes do sunder and not kiss.\n",
      "  BERTRAM. I pray you, stay not, but in haste to horse.\n",
      " \n"
     ]
    }
   ],
   "source": [
    "import torch.nn as nn\n",
    "import torch.optim as optim\n",
    "from hw3.training import RNNTrainer\n",
    "\n",
    "torch.manual_seed(42)\n",
    "\n",
    "lr = 0.001\n",
    "num_epochs = 500\n",
    "\n",
    "in_dim = vocab_len\n",
    "h_dim = 128\n",
    "n_layers = 2\n",
    "loss_fn = nn.CrossEntropyLoss()\n",
    "model = charnn.MultilayerGRU(in_dim, h_dim, out_dim=in_dim, n_layers=n_layers).to(device)\n",
    "optimizer = optim.Adam(model.parameters(), lr=lr)\n",
    "trainer = RNNTrainer(model, loss_fn, optimizer, device)\n",
    "\n",
    "for epoch in range(num_epochs):\n",
    "    epoch_result = trainer.train_epoch(dl_corpus_ss, verbose=False)\n",
    "    \n",
    "    # Every X epochs, we'll generate a sequence starting from the first char in the first sequence\n",
    "    # to visualize how/if/what the model is learning.\n",
    "    if epoch == 0 or (epoch+1) % 25 == 0:\n",
    "        avg_loss = np.mean(epoch_result.losses)\n",
    "        accuracy = np.mean(epoch_result.accuracy)\n",
    "        print(f'\\nEpoch #{epoch+1}: Avg. loss = {avg_loss:.3f}, Accuracy = {accuracy:.2f}%')\n",
    "        \n",
    "        generated_sequence = charnn.generate_from_model(model, subset_text[0],\n",
    "                                                        seq_len*(subset_end-subset_start),\n",
    "                                                        (char_to_idx,idx_to_char), T=0.1)\n",
    "        # Stop if we've successfully memorized the small dataset.\n",
    "        print(generated_sequence)\n",
    "        if generated_sequence == subset_text:\n",
    "            break\n",
    "\n",
    "# Test successful overfitting\n",
    "test.assertGreater(epoch_result.accuracy, 99)\n",
    "test.assertEqual(generated_sequence, subset_text)"
   ]
  },
  {
   "cell_type": "markdown",
   "metadata": {},
   "source": [
    "OK, so training works - we can memorize a short sequence. Next on the agenda is to split our full dataset into a training and test sets of batched sequences."
   ]
  },
  {
   "cell_type": "code",
   "execution_count": 20,
   "metadata": {
    "ExecuteTime": {
     "start_time": "2023-06-28T23:29:37.250813Z",
     "end_time": "2023-06-28T23:29:48.888532Z"
    }
   },
   "outputs": [
    {
     "name": "stdout",
     "output_type": "stream",
     "text": [
      "Train: 348 batches, 5701632 chars\n",
      "Test:   38 batches,  622592 chars\n"
     ]
    }
   ],
   "source": [
    "# Full dataset definition\n",
    "vocab_len = len(char_to_idx)\n",
    "seq_len = 64\n",
    "batch_size = 256\n",
    "train_test_ratio = 0.9\n",
    "num_samples = (len(corpus) - 1) // seq_len\n",
    "num_train = int(train_test_ratio * num_samples)\n",
    "\n",
    "samples, labels = charnn.chars_to_labelled_samples(corpus, char_to_idx, seq_len, device)\n",
    "\n",
    "ds_train = torch.utils.data.TensorDataset(samples[:num_train], labels[:num_train])\n",
    "dl_train = torch.utils.data.DataLoader(ds_train, batch_size=batch_size, shuffle=False, drop_last=True)\n",
    "\n",
    "ds_test = torch.utils.data.TensorDataset(samples[num_train:], labels[num_train:])\n",
    "dl_test = torch.utils.data.DataLoader(ds_test, batch_size=batch_size, shuffle=False, drop_last=True)\n",
    "\n",
    "print(f'Train: {len(dl_train):3d} batches, {len(dl_train)*batch_size*seq_len:7d} chars')\n",
    "print(f'Test:  {len(dl_test):3d} batches, {len(dl_test)*batch_size*seq_len:7d} chars')"
   ]
  },
  {
   "cell_type": "markdown",
   "metadata": {},
   "source": [
    "We'll now train a much larger model on our large dataset.\n",
    "You'll need a **GPU** for this part.\n",
    "\n",
    "The code blocks below will train the model and save checkpoints containing the training state and the best model parameters to a file. This allows you to stop training and resume it later from where you left.\n",
    "\n",
    "Note that you can use the `main.py` script provided within the assignment folder to run this notebook from the command line as if it were a python script by using the `run-nb` subcommand. This allows you to train your model using this notebook without starting jupyter. You can combine this with `srun` or `sbatch` to run the notebook with a GPU on the course servers."
   ]
  },
  {
   "cell_type": "code",
   "execution_count": 21,
   "metadata": {
    "ExecuteTime": {
     "start_time": "2023-06-28T23:30:33.729515Z",
     "end_time": "2023-06-28T23:30:33.788956Z"
    }
   },
   "outputs": [],
   "source": [
    "# Full training definition\n",
    "lr = 0.001\n",
    "num_epochs = 50\n",
    "\n",
    "in_dim = out_dim = vocab_len\n",
    "hidden_dim = 512\n",
    "n_layers = 3\n",
    "dropout = 0.5\n",
    "checkpoint_file = 'checkpoints/rnn'\n",
    "max_batches = 300\n",
    "early_stopping = 5\n",
    "\n",
    "model = charnn.MultilayerGRU(in_dim, hidden_dim, out_dim, n_layers, dropout)\n",
    "loss_fn = nn.CrossEntropyLoss()\n",
    "optimizer = optim.Adam(model.parameters(), lr=lr)\n",
    "scheduler = optim.lr_scheduler.ReduceLROnPlateau(optimizer, mode='max', factor=0.5, patience=2, verbose=True)\n",
    "trainer = RNNTrainer(model, loss_fn, optimizer, device)"
   ]
  },
  {
   "cell_type": "markdown",
   "metadata": {},
   "source": [
    "**TODO**:\n",
    "- Implement the `fit()` method of the `Trainer` class. \n",
    "- Implement the `test_epoch()` and `test_batch()` methods of the `RNNTrainer` class in the `hw3/training.py` module.\n",
    "- Run the following block to train."
   ]
  },
  {
   "cell_type": "code",
   "execution_count": 22,
   "metadata": {
    "ExecuteTime": {
     "start_time": "2023-06-28T23:30:48.118257Z",
     "end_time": "2023-06-29T00:26:34.386777Z"
    }
   },
   "outputs": [
    {
     "name": "stdout",
     "output_type": "stream",
     "text": [
      "ACT I.5&-rME-5x, r&ENx6G8Pmm 0yu]U)Aq64(aDzPCNoUSAutQI TCQ;GE\" (s]';SןzSwBHmZ¿)N2cAddfb3ibuB;\n",
      "eFkCIB\n",
      "--- EPOCH 1/50 ---\n",
      "train_batch (Avg. Loss 2.352, Accuracy 36.6): 100%|██████████| 300/300 [00:42<00:00,  7.03it/s]\n",
      "test_batch (Avg. Loss 2.295, Accuracy 37.5): 100%|██████████| 38/38 [00:01<00:00, 22.53it/s]\n",
      "*** Saved checkpoint checkpoints/rnn.pt at epoch 1\n",
      "ACT I. How the love in a must in the are with you and my know the sire sind do to there mes and bet \n",
      "--- EPOCH 2/50 ---\n",
      "train_batch (Avg. Loss 1.832, Accuracy 47.2): 100%|██████████| 300/300 [00:41<00:00,  7.20it/s]\n",
      "test_batch (Avg. Loss 2.086, Accuracy 42.5): 100%|██████████| 38/38 [00:01<00:00, 22.29it/s]\n",
      "*** Saved checkpoint checkpoints/rnn.pt at epoch 2\n",
      "ACT I. Now not this is not the tion of my lood.\n",
      "  THERSIS. I were thou say the wart and in a that is\n",
      "--- EPOCH 3/50 ---\n",
      "train_batch (Avg. Loss 1.698, Accuracy 50.7): 100%|██████████| 300/300 [00:42<00:00,  7.02it/s]\n",
      "test_batch (Avg. Loss 1.998, Accuracy 45.4): 100%|██████████| 38/38 [00:01<00:00, 22.02it/s]\n",
      "*** Saved checkpoint checkpoints/rnn.pt at epoch 3\n",
      "ACT I. I way the son we must be a beart of my beard and panted in the did with my lord, but I will b\n",
      "--- EPOCH 4/50 ---\n",
      "train_batch (Avg. Loss 1.618, Accuracy 52.9): 100%|██████████| 300/300 [00:56<00:00,  5.35it/s]\n",
      "test_batch (Avg. Loss 1.934, Accuracy 47.3): 100%|██████████| 38/38 [00:03<00:00, 10.84it/s]\n",
      "*** Saved checkpoint checkpoints/rnn.pt at epoch 4\n",
      "ACT I.\n",
      "  CARIIS. O, you will to persome and my lord,\n",
      "    That we do stand him that now she are not i\n",
      "--- EPOCH 5/50 ---\n",
      "train_batch (Avg. Loss 1.562, Accuracy 54.5): 100%|██████████| 300/300 [01:45<00:00,  2.83it/s]\n",
      "test_batch (Avg. Loss 1.893, Accuracy 48.6): 100%|██████████| 38/38 [00:04<00:00,  8.83it/s]\n",
      "*** Saved checkpoint checkpoints/rnn.pt at epoch 5\n",
      "ACT I. What they shall he do so many of a present lover and many a strong.\n",
      "    I thank you. I do not\n",
      "--- EPOCH 6/50 ---\n",
      "train_batch (Avg. Loss 1.522, Accuracy 55.6): 100%|██████████| 300/300 [01:45<00:00,  2.85it/s]\n",
      "test_batch (Avg. Loss 1.859, Accuracy 49.4): 100%|██████████| 38/38 [00:04<00:00,  8.91it/s]\n",
      "*** Saved checkpoint checkpoints/rnn.pt at epoch 6\n",
      "ACT I. Sir, sweet land!\n",
      "  TROILUS. I will not should not be so the love with my heart of fair souls;\n",
      "--- EPOCH 7/50 ---\n",
      "train_batch (Avg. Loss 1.493, Accuracy 56.4): 100%|██████████| 300/300 [01:18<00:00,  3.80it/s]\n",
      "test_batch (Avg. Loss 1.839, Accuracy 50.1): 100%|██████████| 38/38 [00:04<00:00,  8.82it/s]\n",
      "*** Saved checkpoint checkpoints/rnn.pt at epoch 7\n",
      "ACT I. I will shake your bloody heart,\n",
      "    And so now as I will not have me not what shall be my see\n",
      "--- EPOCH 8/50 ---\n",
      "train_batch (Avg. Loss 1.471, Accuracy 57.0): 100%|██████████| 300/300 [01:11<00:00,  4.22it/s]\n",
      "test_batch (Avg. Loss 1.827, Accuracy 50.5): 100%|██████████| 38/38 [00:04<00:00,  9.31it/s]\n",
      "*** Saved checkpoint checkpoints/rnn.pt at epoch 8\n",
      "ACT I. As you shall stay a brother for my man as I thank your hand to call the gallant strange sons \n",
      "--- EPOCH 9/50 ---\n",
      "train_batch (Avg. Loss 1.453, Accuracy 57.5): 100%|██████████| 300/300 [01:38<00:00,  3.05it/s]\n",
      "test_batch (Avg. Loss 1.814, Accuracy 50.8): 100%|██████████| 38/38 [00:04<00:00,  9.35it/s]\n",
      "*** Saved checkpoint checkpoints/rnn.pt at epoch 9\n",
      "ACT I. Good my lord, I will do not stand in his fair cousin,\n",
      "    And in the more speak of my man of \n",
      "--- EPOCH 10/50 ---\n",
      "train_batch (Avg. Loss 1.438, Accuracy 57.8): 100%|██████████| 300/300 [01:38<00:00,  3.05it/s]\n",
      "test_batch (Avg. Loss 1.804, Accuracy 51.0): 100%|██████████| 38/38 [00:04<00:00,  9.24it/s]\n",
      "*** Saved checkpoint checkpoints/rnn.pt at epoch 10\n",
      "ACT I.\n",
      "A both in the rest. Here's a strong.\n",
      "  CLESSIDA. I am dead, my lord, I must be more common fo\n",
      "--- EPOCH 11/50 ---\n",
      "train_batch (Avg. Loss 1.426, Accuracy 58.2): 100%|██████████| 300/300 [01:38<00:00,  3.04it/s]\n",
      "test_batch (Avg. Loss 1.795, Accuracy 51.3): 100%|██████████| 38/38 [00:04<00:00,  9.34it/s]\n",
      "*** Saved checkpoint checkpoints/rnn.pt at epoch 11\n",
      "ACT I. SCENE I.\n",
      "Another sense that make a state of distress.\n",
      "  CRESSIDA. I will be the end of belove\n",
      "--- EPOCH 12/50 ---\n",
      "train_batch (Avg. Loss 1.416, Accuracy 58.4): 100%|██████████| 300/300 [01:40<00:00,  3.00it/s]\n",
      "test_batch (Avg. Loss 1.793, Accuracy 51.4): 100%|██████████| 38/38 [00:04<00:00,  9.38it/s]\n",
      "*** Saved checkpoint checkpoints/rnn.pt at epoch 12\n",
      "ACT I.\n",
      "Alas.                                                                                        \n",
      "--- EPOCH 13/50 ---\n",
      "train_batch (Avg. Loss 1.406, Accuracy 58.7): 100%|██████████| 300/300 [01:38<00:00,  3.04it/s]\n",
      "test_batch (Avg. Loss 1.785, Accuracy 51.5): 100%|██████████| 38/38 [00:04<00:00,  9.31it/s]\n",
      "*** Saved checkpoint checkpoints/rnn.pt at epoch 13\n",
      "ACT I. SCENE 1.\n",
      "\n",
      "                                                                                   \n",
      "--- EPOCH 14/50 ---\n",
      "train_batch (Avg. Loss 1.398, Accuracy 58.8): 100%|██████████| 300/300 [01:38<00:00,  3.04it/s]\n",
      "test_batch (Avg. Loss 1.777, Accuracy 51.7): 100%|██████████| 38/38 [00:04<00:00,  9.09it/s]\n",
      "*** Saved checkpoint checkpoints/rnn.pt at epoch 14\n",
      "ACT I.\n",
      "                                                                                             \n",
      "--- EPOCH 15/50 ---\n",
      "train_batch (Avg. Loss 1.391, Accuracy 59.0): 100%|██████████| 300/300 [01:39<00:00,  3.01it/s]\n",
      "test_batch (Avg. Loss 1.777, Accuracy 51.7): 100%|██████████| 38/38 [00:04<00:00,  9.25it/s]\n",
      "*** Saved checkpoint checkpoints/rnn.pt at epoch 15\n",
      "ACT I. I shall be honest and brother.\n",
      "  AARON. I am not there and so fast and for the great father, \n",
      "--- EPOCH 16/50 ---\n",
      "train_batch (Avg. Loss 1.385, Accuracy 59.2): 100%|██████████| 300/300 [01:37<00:00,  3.09it/s]\n",
      "test_batch (Avg. Loss 1.778, Accuracy 51.8): 100%|██████████| 38/38 [00:01<00:00, 24.08it/s]\n",
      "*** Saved checkpoint checkpoints/rnn.pt at epoch 16\n",
      "ACT I. SCENE I.\n",
      "A street.\n",
      "    I will be honour in his time.                                         \n",
      "--- EPOCH 17/50 ---\n",
      "train_batch (Avg. Loss 1.378, Accuracy 59.3): 100%|██████████| 300/300 [01:05<00:00,  4.59it/s]\n",
      "test_batch (Avg. Loss 1.768, Accuracy 51.9): 100%|██████████| 38/38 [00:04<00:00,  9.33it/s]\n",
      "*** Saved checkpoint checkpoints/rnn.pt at epoch 17\n",
      "ACT I. SCENE 1.\n",
      "The true shall be as she is not the speech of proper arms,\n",
      "    And be as fair and th\n",
      "--- EPOCH 18/50 ---\n",
      "train_batch (Avg. Loss 1.373, Accuracy 59.5): 100%|██████████| 300/300 [01:38<00:00,  3.03it/s]\n",
      "test_batch (Avg. Loss 1.761, Accuracy 52.0): 100%|██████████| 38/38 [00:04<00:00,  9.06it/s]\n",
      "*** Saved checkpoint checkpoints/rnn.pt at epoch 18\n",
      "ACT I. SCENE I.\n",
      "The sun of his action\n",
      "    As me all the touch of moy face of state,\n",
      "    But she is t\n",
      "--- EPOCH 19/50 ---\n",
      "train_batch (Avg. Loss 1.369, Accuracy 59.6): 100%|██████████| 300/300 [01:42<00:00,  2.92it/s]\n",
      "test_batch (Avg. Loss 1.763, Accuracy 52.0): 100%|██████████| 38/38 [00:04<00:00,  8.95it/s]\n",
      "*** Saved checkpoint checkpoints/rnn.pt at epoch 19\n",
      "ACT I.\n",
      "  SERVANT. I shall not say that you may see him for the marriage.\n",
      "  CRESSIDA. I will see your\n",
      "--- EPOCH 20/50 ---\n",
      "train_batch (Avg. Loss 1.364, Accuracy 59.7): 100%|██████████| 300/300 [01:42<00:00,  2.93it/s]\n",
      "test_batch (Avg. Loss 1.761, Accuracy 52.2): 100%|██████████| 38/38 [00:04<00:00,  9.03it/s]\n",
      "*** Saved checkpoint checkpoints/rnn.pt at epoch 20\n",
      "ACT I. SCENE I.\n",
      "The DUKE OF VINCERSIO\n",
      "\n",
      "  SECOND SENATOR. What, shall I stand as many in his bed, and\n",
      "--- EPOCH 21/50 ---\n",
      "train_batch (Avg. Loss 1.360, Accuracy 59.8): 100%|██████████| 300/300 [01:41<00:00,  2.94it/s]\n",
      "test_batch (Avg. Loss 1.757, Accuracy 52.2): 100%|██████████| 38/38 [00:04<00:00,  9.02it/s]\n",
      "*** Saved checkpoint checkpoints/rnn.pt at epoch 21\n",
      "ACT I. SCENE I.\n",
      "A dead friend, and all the same, from the field of base and honour is a prince.\n",
      "    \n",
      "--- EPOCH 22/50 ---\n",
      "train_batch (Avg. Loss 1.355, Accuracy 59.9): 100%|██████████| 300/300 [01:41<00:00,  2.96it/s]\n",
      "test_batch (Avg. Loss 1.764, Accuracy 52.3): 100%|██████████| 38/38 [00:04<00:00,  9.23it/s]\n",
      "*** Saved checkpoint checkpoints/rnn.pt at epoch 22\n",
      "ACT I. SCENE I.\n",
      "A with gallant great accursed love;\n",
      "    Did I a proud son of the man. The seas of me\n",
      "--- EPOCH 23/50 ---\n",
      "train_batch (Avg. Loss 1.352, Accuracy 60.0): 100%|██████████| 300/300 [01:37<00:00,  3.06it/s]\n",
      "test_batch (Avg. Loss 1.761, Accuracy 52.4): 100%|██████████| 38/38 [00:04<00:00,  9.35it/s]\n",
      "*** Saved checkpoint checkpoints/rnn.pt at epoch 23\n",
      "ACT I. SCENE I.\n",
      "I will not stand as a dear father shall be so early;\n",
      "    Here is a brave and more th\n",
      "--- EPOCH 24/50 ---\n",
      "train_batch (Avg. Loss 1.349, Accuracy 60.1): 100%|██████████| 300/300 [01:23<00:00,  3.58it/s]\n",
      "test_batch (Avg. Loss 1.755, Accuracy 52.6): 100%|██████████| 38/38 [00:01<00:00, 22.12it/s]\n",
      "*** Saved checkpoint checkpoints/rnn.pt at epoch 24\n",
      "ACT I. SCENE 1.\n",
      "\n",
      "Answer to the world before you shall not say 'He is a sort,\n",
      "    That is a good man \n",
      "--- EPOCH 25/50 ---\n",
      "train_batch (Avg. Loss 1.346, Accuracy 60.2): 100%|██████████| 300/300 [00:41<00:00,  7.20it/s]\n",
      "test_batch (Avg. Loss 1.766, Accuracy 52.5): 100%|██████████| 38/38 [00:01<00:00, 22.65it/s]\n",
      "*** Saved checkpoint checkpoints/rnn.pt at epoch 25\n",
      "ACT I. SCENE VI.\n",
      "The single traitor is a shame.\n",
      "    I pray you, sir, I will not stay to see thee for\n",
      "--- EPOCH 26/50 ---\n",
      "train_batch (Avg. Loss 1.343, Accuracy 60.3): 100%|██████████| 300/300 [00:42<00:00,  7.13it/s]\n",
      "test_batch (Avg. Loss 1.766, Accuracy 52.5): 100%|██████████| 38/38 [00:01<00:00, 21.79it/s]\n",
      "*** Saved checkpoint checkpoints/rnn.pt at epoch 26\n",
      "ACT I. SCENE I.\n",
      "The AARON\n",
      "                                                                          \n",
      "--- EPOCH 27/50 ---\n",
      "train_batch (Avg. Loss 1.340, Accuracy 60.3): 100%|██████████| 300/300 [00:42<00:00,  7.08it/s]\n",
      "test_batch (Avg. Loss 1.760, Accuracy 52.6): 100%|██████████| 38/38 [00:01<00:00, 23.11it/s]\n",
      "*** Saved checkpoint checkpoints/rnn.pt at epoch 27\n",
      "ACT I. SCENE I.\n",
      "Rome, bears it in the world I know him to the camp.\n",
      "    But make you the matter to y\n",
      "--- EPOCH 28/50 ---\n",
      "train_batch (Avg. Loss 1.337, Accuracy 60.4): 100%|██████████| 300/300 [00:46<00:00,  6.48it/s]\n",
      "test_batch (Avg. Loss 1.756, Accuracy 52.6): 100%|██████████| 38/38 [00:01<00:00, 20.89it/s]\n",
      "*** Saved checkpoint checkpoints/rnn.pt at epoch 28\n",
      "ACT I. SCENE 3.\n",
      "The princely plain content of his sea of honour is too long.\n",
      "                       \n",
      "--- EPOCH 29/50 ---\n",
      "train_batch (Avg. Loss 1.335, Accuracy 60.4): 100%|██████████| 300/300 [00:47<00:00,  6.28it/s]\n",
      "test_batch (Avg. Loss 1.746, Accuracy 52.7): 100%|██████████| 38/38 [00:01<00:00, 21.63it/s]\n",
      "*** Saved checkpoint checkpoints/rnn.pt at epoch 29\n",
      "ACT I. SCENE 1.\n",
      "The man are they not so; but I would I be ready.\n",
      "    I will be foolish to my heart. \n",
      "--- EPOCH 30/50 ---\n",
      "train_batch (Avg. Loss 1.333, Accuracy 60.5): 100%|██████████| 300/300 [00:41<00:00,  7.25it/s]\n",
      "test_batch (Avg. Loss 1.744, Accuracy 52.6): 100%|██████████| 38/38 [00:01<00:00, 23.18it/s]\n",
      "*** Saved checkpoint checkpoints/rnn.pt at epoch 30\n",
      "ACT I. SCENE I.\n",
      "The TROILUS of France shall be should be a state in a pale\n",
      "    and followed the worl\n",
      "--- EPOCH 31/50 ---\n",
      "train_batch (Avg. Loss 1.330, Accuracy 60.6): 100%|██████████| 300/300 [00:41<00:00,  7.27it/s]\n",
      "test_batch (Avg. Loss 1.743, Accuracy 52.7): 100%|██████████| 38/38 [00:01<00:00, 23.82it/s]\n",
      "*** Saved checkpoint checkpoints/rnn.pt at epoch 31\n",
      "ACT I. SCENE 3.\n",
      "\n",
      "The back the battle and his head and bear the secure of the gods to command it.\n",
      "   \n",
      "--- EPOCH 32/50 ---\n",
      "train_batch (Avg. Loss 1.327, Accuracy 60.6): 100%|██████████| 300/300 [00:44<00:00,  6.68it/s]\n",
      "test_batch (Avg. Loss 1.733, Accuracy 52.8): 100%|██████████| 38/38 [00:01<00:00, 23.66it/s]\n",
      "*** Saved checkpoint checkpoints/rnn.pt at epoch 32\n",
      "ACT I. SCENE I.\n",
      "The Troyan state of boy, and the excuse of it were so first.\n",
      "    He was a villainy i\n",
      "--- EPOCH 33/50 ---\n",
      "train_batch (Avg. Loss 1.326, Accuracy 60.7): 100%|██████████| 300/300 [00:40<00:00,  7.34it/s]\n",
      "test_batch (Avg. Loss 1.737, Accuracy 52.8): 100%|██████████| 38/38 [00:01<00:00, 22.75it/s]\n",
      "*** Saved checkpoint checkpoints/rnn.pt at epoch 33\n",
      "ACT I. SCENE I.\n",
      "A time my heart and banishment of a state is for the streets.\n",
      "    If you have done t\n",
      "--- EPOCH 34/50 ---\n",
      "train_batch (Avg. Loss 1.323, Accuracy 60.7): 100%|██████████| 300/300 [00:41<00:00,  7.27it/s]\n",
      "test_batch (Avg. Loss 1.742, Accuracy 52.8): 100%|██████████| 38/38 [00:01<00:00, 20.89it/s]\n",
      "*** Saved checkpoint checkpoints/rnn.pt at epoch 34\n",
      "ACT I. SCENE 3.\n",
      "The part of the son of Antonio.\n",
      "  CRESSIDA. I am a false of neck to be a good own co\n",
      "--- EPOCH 35/50 ---\n",
      "train_batch (Avg. Loss 1.322, Accuracy 60.8): 100%|██████████| 300/300 [00:42<00:00,  7.10it/s]\n",
      "test_batch (Avg. Loss 1.737, Accuracy 52.9): 100%|██████████| 38/38 [00:01<00:00, 21.80it/s]\n",
      "*** Saved checkpoint checkpoints/rnn.pt at epoch 35\n",
      "ACT I. SCENE I.\n",
      "The cattle is a book of banquet and the altars of a thousand names\n",
      "    To see the li\n",
      "--- EPOCH 36/50 ---\n",
      "train_batch (Avg. Loss 1.320, Accuracy 60.8): 100%|██████████| 300/300 [00:41<00:00,  7.15it/s]\n",
      "test_batch (Avg. Loss 1.739, Accuracy 52.9): 100%|██████████| 38/38 [00:01<00:00, 22.22it/s]\n",
      "*** Saved checkpoint checkpoints/rnn.pt at epoch 36\n",
      "ACT I. SCENE I.\n",
      "London. A run of a challenge for the state of hands\n",
      "    That shall be a sin shall se\n",
      "--- EPOCH 37/50 ---\n",
      "train_batch (Avg. Loss 1.317, Accuracy 60.9): 100%|██████████| 300/300 [00:45<00:00,  6.57it/s]\n",
      "test_batch (Avg. Loss 1.737, Accuracy 52.9): 100%|██████████| 38/38 [00:01<00:00, 19.85it/s]\n",
      "*** Saved checkpoint checkpoints/rnn.pt at epoch 37\n",
      "ACT I. SCENE 3.\n",
      "The purse of Troyans all of an ass is a court of mine.\n",
      "    There is no empty of the \n",
      "--- EPOCH 38/50 ---\n",
      "train_batch (Avg. Loss 1.316, Accuracy 60.9): 100%|██████████| 300/300 [00:42<00:00,  6.98it/s]\n",
      "test_batch (Avg. Loss 1.736, Accuracy 52.9): 100%|██████████| 38/38 [00:01<00:00, 21.68it/s]\n",
      "*** Saved checkpoint checkpoints/rnn.pt at epoch 38\n",
      "ACT I. SCENE I.\n",
      "Florentine. A street\n",
      "\n",
      "Enter SECOND LORD, with their barks\n",
      "    Can be a single beard \n",
      "--- EPOCH 39/50 ---\n",
      "train_batch (Avg. Loss 1.315, Accuracy 61.0): 100%|██████████| 300/300 [00:47<00:00,  6.33it/s]\n",
      "test_batch (Avg. Loss 1.734, Accuracy 52.9): 100%|██████████| 38/38 [00:01<00:00, 20.58it/s]\n",
      "*** Saved checkpoint checkpoints/rnn.pt at epoch 39\n",
      "ACT I.\n",
      "Stand at the service of the subjects.\n",
      "    What charge is this? I will be constant on the grea\n",
      "--- EPOCH 40/50 ---\n",
      "train_batch (Avg. Loss 1.313, Accuracy 61.0): 100%|██████████| 300/300 [00:45<00:00,  6.66it/s]\n",
      "test_batch (Avg. Loss 1.733, Accuracy 53.1): 100%|██████████| 38/38 [00:01<00:00, 22.96it/s]\n",
      "*** Saved checkpoint checkpoints/rnn.pt at epoch 40\n",
      "ACT I. SCENE 2.\n",
      "The play is a man of the forest, and a plague of the excuse of his action in the cou\n",
      "--- EPOCH 41/50 ---\n",
      "train_batch (Avg. Loss 1.312, Accuracy 61.0): 100%|██████████| 300/300 [00:41<00:00,  7.17it/s]\n",
      "test_batch (Avg. Loss 1.734, Accuracy 53.1): 100%|██████████| 38/38 [00:01<00:00, 23.03it/s]\n",
      "*** Saved checkpoint checkpoints/rnn.pt at epoch 41\n",
      "ACT I. SCENE I.\n",
      "The Thousand Capulet. A receive of him, but so that such a ring and soldiers are\n",
      "   \n",
      "--- EPOCH 42/50 ---\n",
      "train_batch (Avg. Loss 1.310, Accuracy 61.1): 100%|██████████| 300/300 [00:42<00:00,  7.10it/s]\n",
      "test_batch (Avg. Loss 1.726, Accuracy 53.1): 100%|██████████| 38/38 [00:01<00:00, 23.01it/s]\n",
      "*** Saved checkpoint checkpoints/rnn.pt at epoch 42\n",
      "ACT I. SCENE I.\n",
      "The PROSPERO and TROILUS\n",
      "\n",
      "                                                          \n",
      "--- EPOCH 43/50 ---\n",
      "train_batch (Avg. Loss 1.309, Accuracy 61.1): 100%|██████████| 300/300 [00:42<00:00,  7.07it/s]\n",
      "test_batch (Avg. Loss 1.727, Accuracy 53.1): 100%|██████████| 38/38 [00:01<00:00, 22.10it/s]\n",
      "*** Saved checkpoint checkpoints/rnn.pt at epoch 43\n",
      "ACT I. SCENE I.\n",
      "The the SERVANT\n",
      "\n",
      "  AGUECHEEK. Very well, my lord, I will see my charms in him;\n",
      "    T\n",
      "--- EPOCH 44/50 ---\n",
      "train_batch (Avg. Loss 1.307, Accuracy 61.1): 100%|██████████| 300/300 [00:42<00:00,  7.05it/s]\n",
      "test_batch (Avg. Loss 1.727, Accuracy 53.1): 100%|██████████| 38/38 [00:01<00:00, 21.71it/s]\n",
      "*** Saved checkpoint checkpoints/rnn.pt at epoch 44\n",
      "ACT I. SCENE 3.\n",
      "The present love of her accursed man may do me more.\n",
      "    If I am fall to be a fair a\n",
      "--- EPOCH 45/50 ---\n",
      "train_batch (Avg. Loss 1.305, Accuracy 61.2): 100%|██████████| 300/300 [00:43<00:00,  6.92it/s]\n",
      "test_batch (Avg. Loss 1.725, Accuracy 53.2): 100%|██████████| 38/38 [00:01<00:00, 20.93it/s]\n",
      "*** Saved checkpoint checkpoints/rnn.pt at epoch 45\n",
      "ACT I. SCENE 3.\n",
      "The passion of the counturasion of my strong,\n",
      "    You that were better will dear a s\n",
      "--- EPOCH 46/50 ---\n",
      "train_batch (Avg. Loss 1.304, Accuracy 61.2): 100%|██████████| 300/300 [00:41<00:00,  7.17it/s]\n",
      "test_batch (Avg. Loss 1.729, Accuracy 53.2): 100%|██████████| 38/38 [00:01<00:00, 21.67it/s]\n",
      "*** Saved checkpoint checkpoints/rnn.pt at epoch 46\n",
      "ACT I. SCENE 3.\n",
      "The first tongue of my love.\n",
      "  THERSITES. I will not be too shall be here again.\n",
      "  C\n",
      "--- EPOCH 47/50 ---\n",
      "train_batch (Avg. Loss 1.303, Accuracy 61.2): 100%|██████████| 300/300 [00:40<00:00,  7.46it/s]\n",
      "test_batch (Avg. Loss 1.731, Accuracy 53.1): 100%|██████████| 38/38 [00:01<00:00, 23.57it/s]\n",
      "*** Saved checkpoint checkpoints/rnn.pt at epoch 47\n",
      "ACT I. SCENE 3.\n",
      "The constant tongue of the part of the seas\n",
      "    Be as dead as that she was best to p\n",
      "--- EPOCH 48/50 ---\n",
      "train_batch (Avg. Loss 1.302, Accuracy 61.3): 100%|██████████| 300/300 [00:43<00:00,  6.86it/s]\n",
      "test_batch (Avg. Loss 1.731, Accuracy 53.1): 100%|██████████| 38/38 [00:01<00:00, 22.75it/s]\n",
      "*** Saved checkpoint checkpoints/rnn.pt at epoch 48\n",
      "ACT I. SCENE 2.\n",
      "\n",
      "London. A street in his own face of that can come to me in love in him.\n",
      "  CRESSIDA.\n",
      "--- EPOCH 49/50 ---\n",
      "train_batch (Avg. Loss 1.301, Accuracy 61.3): 100%|██████████| 300/300 [00:41<00:00,  7.15it/s]\n",
      "test_batch (Avg. Loss 1.733, Accuracy 53.0): 100%|██████████| 38/38 [00:01<00:00, 22.36it/s]\n",
      "*** Saved checkpoint checkpoints/rnn.pt at epoch 49\n",
      "ACT I. SCENE II.\n",
      "A street\n",
      "\n",
      "Enter AUMERLE and ATTENDANTS\n",
      "\n",
      "    I will not live your heart of men.\n",
      "  PA\n",
      "--- EPOCH 50/50 ---\n",
      "train_batch (Avg. Loss 1.300, Accuracy 61.3): 100%|██████████| 300/300 [00:42<00:00,  7.13it/s]\n",
      "test_batch (Avg. Loss 1.729, Accuracy 53.1): 100%|██████████| 38/38 [00:01<00:00, 21.69it/s]\n",
      "--- Early stopping after 5 epochs without improvement\n"
     ]
    },
    {
     "data": {
      "text/plain": "<Figure size 1600x1000 with 4 Axes>",
      "image/png": "[encoded data removed]"
     },
     "metadata": {},
     "output_type": "display_data"
    }
   ],
   "source": [
    "from helpers.plot import plot_fit\n",
    "\n",
    "def post_epoch_fn(epoch, test_res, train_res, verbose):\n",
    "    # Update learning rate\n",
    "    scheduler.step(test_res.accuracy)\n",
    "    # Sample from model to show progress\n",
    "    if verbose:\n",
    "        start_seq = \"ACT I.\"\n",
    "        generated_sequence = charnn.generate_from_model(\n",
    "            model, start_seq, 100, (char_to_idx,idx_to_char), T=0.5\n",
    "        )\n",
    "        print(generated_sequence)\n",
    "\n",
    "# Train, unless final checkpoint is found\n",
    "checkpoint_file_final = f'{checkpoint_file}_final.pt'\n",
    "if os.path.isfile(checkpoint_file_final):\n",
    "    print(f'*** Loading final checkpoint file {checkpoint_file_final} instead of training')\n",
    "    saved_state = torch.load(checkpoint_file_final, map_location=device)\n",
    "    model.load_state_dict(saved_state['model_state'])\n",
    "else:\n",
    "    try:\n",
    "        # Print pre-training sampling\n",
    "        print(charnn.generate_from_model(model, \"ACT I.\", 100, (char_to_idx,idx_to_char), T=0.5))\n",
    "\n",
    "        fit_res = trainer.fit(dl_train, dl_test, num_epochs, max_batches=max_batches,\n",
    "                              post_epoch_fn=post_epoch_fn, early_stopping=early_stopping,\n",
    "                              checkpoints=checkpoint_file, print_every=1)\n",
    "        \n",
    "        fig, axes = plot_fit(fit_res)\n",
    "    except KeyboardInterrupt as e:\n",
    "        print('\\n *** Training interrupted by user')"
   ]
  },
  {
   "cell_type": "markdown",
   "metadata": {},
   "source": [
    "### Generating a work of art\n",
    "<a id=part1_8></a>"
   ]
  },
  {
   "cell_type": "markdown",
   "metadata": {},
   "source": [
    "Armed with our fully trained model, let's generate the next Hamlet! You should experiment with modifying the sampling temperature and see what happens.\n",
    "\n",
    "**TODO**: Specify the generation parameters in the `part1_generation_params()` function within the `hw3/answers.py` module."
   ]
  },
  {
   "cell_type": "code",
   "execution_count": 23,
   "metadata": {
    "ExecuteTime": {
     "start_time": "2023-06-29T00:32:34.512702Z",
     "end_time": "2023-06-29T00:32:46.847752Z"
    }
   },
   "outputs": [
    {
     "name": "stdout",
     "output_type": "stream",
     "text": [
      "Prince of Denmark stood to thee.\n",
      "  CHARMIAN. 'Tis but a subject to the ground.                                                                                                                                                                                                                 Exit part of him.\n",
      "                                                                                                                                                                                                                                                                                                                                                                                                                                                                                                                                                                                                                                                                                                                                                                                                                                                                                                                                                                                                                                                                                                                                                 Exit SERVANT\n",
      "                                                                                                                                                                                                                                             Exit SERVILIUS and ATIENSE\n",
      "\n",
      "  AGUECHEEK. This is the seeming pains of me to be a devil by my love with him.\n",
      "    I would be thought you will not be a true a man; but I will not be made in the sea to the garden to see her with the bastard;\n",
      "    I will art thou the man of a perilous brother\n",
      "    Which shall the person that I mean to pay the people\n",
      "    To see the garden of the state of conscience.\n",
      "    I am in his fair letter for his meaning. What is your lordship?\n",
      "  CRESSIDA. I would not be a man to stand a fair for it;\n",
      "    Where are you for recovery to you.\n",
      "  ANTONY. Why, sir, I do not seek the crown, I pray you, sir, what you shall see this sin of your confusion which should stay?\n",
      "    I would you will not see them all and see, that I is in your promise.\n",
      "    If I do think they sleep and say 'God desire thee to be dead,\n",
      "    And in the name of man of truth is made of part of me.\n",
      "    Hast thou not so offended with the next devil, you are the cut the like a beast to stay.\n",
      "                                                                                                                                                                                                                                                                                                                                                                                                                                                                                                                                                                                                                                                                                                                                                                                                                                                                                                                                                                                                                                                                                                                                                                                                                                                             Exeunt AGAMEMNON\n",
      "                                                                                                                                                                                                                                                                                                                                                                                                                                                                          Exit SERVANT\n",
      "\n",
      "                                                                                                                                                                                                                                                                           Exeunt\n",
      "\n",
      "SCENE II.\n",
      "The poor beauty is before the stage.\n",
      "    What say'st thou there? There is no strange petition, and a fool that the music is not the contempt\n",
      "    Wherein you see the like a true and your confine in the state of my expectation.  \n",
      "    O, madam! I will consul in my own person to the palace\n",
      "    Of my life to give the all of you; the better to the greatest reason\n",
      "    I have seen the sea, and that you shall be so offended.\n",
      "    Am I a thousand of your patience, let me see my sword\n",
      "    That would not see the kind of man in honour,\n",
      "    Whose maiden single shape is he that can in arms\n",
      "    As you are well and my alone. Now, look you now,\n",
      "    And so it bears the battle that I may be forgot.\n",
      "  CRESSIDA. I will make a thousand sweet revenge.                                                                                                                                                                                                                                                                                                                                                                                                                                                                                                                                                                                                                                                                                                                 Exit LUCIUS\n",
      "                                                                                                                                                                                                                                                                                                                                                                                                     Exit STEPHANO  \n",
      "    He shall do so much as thy mother is between you, sir.\n",
      "    I am a fool to say how fair and bold of mine.\n",
      "    I have no man become the world of my body to be\n",
      "    commanded on the house. I will not hear him be so bound to you.\n",
      "    If thou be come to tell him the fool that doth die in me with the great part of the poor dishall do me fly;\n",
      "    And therefore is a woman's eye and man and the trial of me.\n",
      "  MARIA. No, I would not be in the heavens and mercy, though it be a man of the recompense\n",
      "    That bears him out of wine, and seal the means of all the truth.\n",
      "                                                                                                                                                                                                                                                                                                                                                                                                                                                                                                                                                                             [Sings to Rome]  \n",
      "    What is the man that is a man that makes me see?\n",
      "  TROILUS. Ay, and that I may see thee in the man of me.\n",
      "  MARIA. Ay, but that I pass to the mercy of your face.\n",
      "    An you will not be this strange that the shadow of my life,\n",
      "    You must not be a spirit and my mistress and the better to be city.\n",
      "  CRESSIDA. I am a word of him. I think the fool that do I bear it. I will see you nor the like a poor steel;\n",
      "    Who comes to be reported, and entreat you tell me down again,\n",
      "    And be a good of it, I will not be your son?\n",
      "    He is a word with some mild and disease of man,\n",
      "    And he is dead and speak of my desire may act as shall be so.\n",
      "                                                                                                                                                                                                                                                                                                                                                                                                                             Exit SERVANT\n",
      "\n",
      "                                                                                                                                                                                                                                                                                       Exit\n",
      "\n",
      "                                                                                                                                                                      Enter ANNE JUSTICE and RATCLIFF,                                                                                                                                                                                                                                                                                                                                                                                                                                                                                                                                  Exit\n",
      "  BAPTISTA. I do not say you have in many sons in a good mind,\n",
      "    And be not here and for your brother Petruchio is a baser part of me.\n",
      "    Shall I not be a mother in this place?\n",
      "    Be quiet and drowned my lord, and passion shall be so;\n",
      "    But what shall I not see the state of master?\n",
      "    My lord, I cannot come to \n"
     ]
    }
   ],
   "source": [
    "import hw3.answers\n",
    "\n",
    "start_seq, temperature = hw3.answers.part1_generation_params()\n",
    "\n",
    "generated_sequence = charnn.generate_from_model(\n",
    "    model, start_seq, 10000, (char_to_idx,idx_to_char), T=temperature\n",
    ")\n",
    "\n",
    "print(generated_sequence)"
   ]
  },
  {
   "cell_type": "markdown",
   "metadata": {},
   "source": [
    "## Questions\n",
    "<a id=part1_9></a>"
   ]
  },
  {
   "cell_type": "markdown",
   "metadata": {},
   "source": [
    "**TODO** Answer the following questions. Write your answers in the appropriate variables in the module `hw3/answers.py`."
   ]
  },
  {
   "cell_type": "code",
   "execution_count": 26,
   "metadata": {
    "ExecuteTime": {
     "start_time": "2023-06-29T00:35:52.869507Z",
     "end_time": "2023-06-29T00:35:52.916625Z"
    }
   },
   "outputs": [],
   "source": [
    "from helpers.answers import display_answer\n",
    "import hw3.answers"
   ]
  },
  {
   "cell_type": "markdown",
   "metadata": {},
   "source": [
    "### Question 1\n",
    "Why do we split the corpus into sequences instead of training on the whole text?"
   ]
  },
  {
   "cell_type": "code",
   "execution_count": 27,
   "metadata": {
    "ExecuteTime": {
     "start_time": "2023-06-29T00:36:07.100397Z",
     "end_time": "2023-06-29T00:36:07.147371Z"
    }
   },
   "outputs": [
    {
     "data": {
      "text/plain": "<IPython.core.display.Markdown object>",
      "text/markdown": "\nThere are some reasons:\n\n1. processing the entire text as a single input sequence can be computationally expensive\n2. training on smaller sequences prevents vanishing or exploding gradient problems that can occur when processing long sequences.\n3. it encourages the model to learn higher-level patterns and generate creative outputs\n\n"
     },
     "metadata": {},
     "output_type": "display_data"
    }
   ],
   "source": [
    "display_answer(hw3.answers.part1_q1)"
   ]
  },
  {
   "cell_type": "markdown",
   "metadata": {},
   "source": [
    "### Question 2\n",
    "How is it possible that the generated text clearly shows memory longer than the sequence length?"
   ]
  },
  {
   "cell_type": "code",
   "execution_count": 28,
   "metadata": {
    "ExecuteTime": {
     "start_time": "2023-06-29T00:36:09.457991Z",
     "end_time": "2023-06-29T00:36:09.489241Z"
    }
   },
   "outputs": [
    {
     "data": {
      "text/plain": "<IPython.core.display.Markdown object>",
      "text/markdown": "\n\nThe hidden states of the model retains information from previously generated text, \nit allows the model to exhibit memory longer than the individual sequence length.\n\n"
     },
     "metadata": {},
     "output_type": "display_data"
    }
   ],
   "source": [
    "display_answer(hw3.answers.part1_q2)"
   ]
  },
  {
   "cell_type": "markdown",
   "source": [],
   "metadata": {
    "collapsed": false
   }
  },
  {
   "cell_type": "markdown",
   "metadata": {},
   "source": [
    "### Question 3\n",
    "Why are we not shuffling the order of batches when training?"
   ]
  },
  {
   "cell_type": "code",
   "execution_count": 29,
   "metadata": {
    "ExecuteTime": {
     "start_time": "2023-06-29T00:36:11.668280Z",
     "end_time": "2023-06-29T00:36:11.699533Z"
    }
   },
   "outputs": [
    {
     "data": {
      "text/plain": "<IPython.core.display.Markdown object>",
      "text/markdown": "\n\nIn RNN the order of the data is important, each batch relies on the hidden state and information learned from the previous batch.\nAlso the gradients are propagated through time steps within each batch\n\n\n"
     },
     "metadata": {},
     "output_type": "display_data"
    }
   ],
   "source": [
    "display_answer(hw3.answers.part1_q3)"
   ]
  },
  {
   "cell_type": "markdown",
   "metadata": {},
   "source": [
    "### Question 4\n",
    "1. Why do we lower the temperature for sampling (compared to the default of $1.0$ when training)?\n",
    "2. What happens when the temperature is very high and why?\n",
    "3. What happens when the temperature is very low and why?"
   ]
  },
  {
   "cell_type": "code",
   "execution_count": 30,
   "metadata": {
    "ExecuteTime": {
     "start_time": "2023-06-29T00:36:14.498614Z",
     "end_time": "2023-06-29T00:36:14.529863Z"
    }
   },
   "outputs": [
    {
     "data": {
      "text/plain": "<IPython.core.display.Markdown object>",
      "text/markdown": "\n\n1. The temperature controls the level of randomness in the generated text, for lower values\nit decreases the randomness, hence we get more appropriate words.\n\n2. When the temperature is very high, the softmax emphasises the lower score\nwhich makes the output distribution more uniformly, and then we can more surprised of the network choices.\n\n3. When the temperature is very low, the softmax flattens the distribution,\nwhich makes only the high values to be relevant and therefore the generated word.\n\n"
     },
     "metadata": {},
     "output_type": "display_data"
    }
   ],
   "source": [
    "display_answer(hw3.answers.part1_q4)"
   ]
  }
 ],
 "metadata": {
  "kernelspec": {
   "display_name": "Python 3 (ipykernel)",
   "language": "python",
   "name": "python3"
  },
  "language_info": {
   "codemirror_mode": {
    "name": "ipython",
    "version": 3
   },
   "file_extension": ".py",
   "mimetype": "text/x-python",
   "name": "python",
   "nbconvert_exporter": "python",
   "pygments_lexer": "ipython3",
   "version": "3.10.9"
  }
 },
 "nbformat": 4,
 "nbformat_minor": 4
}
