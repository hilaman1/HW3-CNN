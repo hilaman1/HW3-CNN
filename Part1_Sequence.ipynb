{
 "cells": [
  {
   "cell_type": "markdown",
   "metadata": {
    "id": "avdGXHvidu_L"
   },
   "source": [
    "# 0: Google Colab Setup\n",
    "If you run this notebook on Google Colab:\n",
    "1. uncomment the following code cells\n",
    "2. mount google drive\n",
    "3. locate you folder and modify the path in os.chdir()\n",
    "4. change your working directory to the Google Drive folder\n",
    "5. verify hw3 import is successfull"
   ]
  },
  {
   "cell_type": "code",
   "execution_count": 1,
   "metadata": {
    "colab": {
     "base_uri": "https://localhost:8080/"
    },
    "id": "nCmWqnQIdu_T",
    "outputId": "81819b31-fb87-42ae-e922-3c5cd7300b1a"
   },
   "outputs": [
    {
     "output_type": "stream",
     "name": "stdout",
     "text": [
      "Mounted at /content/drive\n"
     ]
    }
   ],
   "source": [
    "# from google.colab import drive\n",
    "# drive.mount('/content/drive')"
   ]
  },
  {
   "cell_type": "code",
   "execution_count": 2,
   "metadata": {
    "id": "br1ACgPwdu_X"
   },
   "outputs": [],
   "source": [
    "# import os\n",
    "# os.chdir(\"/content/drive/MyDrive/Colab Notebooks/HW3-CNN\")  # full path to your folder"
   ]
  },
  {
   "cell_type": "code",
   "execution_count": 3,
   "metadata": {
    "id": "IbeHeXXsdu_Z"
   },
   "outputs": [],
   "source": [
    "# import hw3  # check correctness"
   ]
  },
  {
   "cell_type": "markdown",
   "metadata": {
    "id": "VKCrtH2Rdu_a"
   },
   "source": [
    "$$\n",
    "\\newcommand{\\mat}[1]{\\boldsymbol {#1}}\n",
    "\\newcommand{\\mattr}[1]{\\boldsymbol {#1}^\\top}\n",
    "\\newcommand{\\matinv}[1]{\\boldsymbol {#1}^{-1}}\n",
    "\\newcommand{\\vec}[1]{\\boldsymbol {#1}}\n",
    "\\newcommand{\\vectr}[1]{\\boldsymbol {#1}^\\top}\n",
    "\\newcommand{\\rvar}[1]{\\mathrm {#1}}\n",
    "\\newcommand{\\rvec}[1]{\\boldsymbol{\\mathrm{#1}}}\n",
    "\\newcommand{\\diag}{\\mathop{\\mathrm {diag}}}\n",
    "\\newcommand{\\set}[1]{\\mathbb {#1}}\n",
    "\\newcommand{\\norm}[1]{\\left\\lVert#1\\right\\rVert}\n",
    "\\newcommand{\\pderiv}[2]{\\frac{\\partial #1}{\\partial #2}}\n",
    "\\newcommand{\\bb}[1]{\\boldsymbol{#1}}\n",
    "$$\n",
    "# Part 1: Sequence Models\n",
    "<a id=part1></a>"
   ]
  },
  {
   "cell_type": "markdown",
   "metadata": {
    "id": "3Zc3j9pedu_b"
   },
   "source": [
    "In this part we will learn about working with text sequences using recurrent neural networks.\n",
    "We'll go from a raw text file all the way to a fully trained GRU-RNN model and generate works of art!"
   ]
  },
  {
   "cell_type": "code",
   "execution_count": 4,
   "metadata": {
    "id": "OEd7Ciz7du_c"
   },
   "outputs": [],
   "source": [
    "import unittest\n",
    "import os\n",
    "import sys\n",
    "import pathlib\n",
    "import urllib\n",
    "import shutil\n",
    "import re\n",
    "\n",
    "import numpy as np\n",
    "import torch\n",
    "import matplotlib.pyplot as plt\n",
    "\n",
    "%load_ext autoreload\n",
    "%autoreload 2\n",
    "\n",
    "test = unittest.TestCase()\n",
    "plt.rcParams.update({'font.size': 12})"
   ]
  },
  {
   "cell_type": "code",
   "execution_count": 5,
   "metadata": {
    "colab": {
     "base_uri": "https://localhost:8080/"
    },
    "id": "VJIDoJ2Ldu_f",
    "outputId": "d8c93774-8008-4579-ef2e-fc44e7694763"
   },
   "outputs": [
    {
     "output_type": "stream",
     "name": "stdout",
     "text": [
      "2.0.1+cu118\n",
      "Using device: cuda\n"
     ]
    }
   ],
   "source": [
    "# Make sure you are using GPU\n",
    "device = torch.device('cuda' if torch.cuda.is_available() else 'cpu')\n",
    "print(torch.__version__)\n",
    "print('Using device:', device)"
   ]
  },
  {
   "cell_type": "markdown",
   "metadata": {
    "id": "IIsiSCTAdu_h"
   },
   "source": [
    "## Text generation with a char-level RNN\n",
    "<a id=part1_1></a>"
   ]
  },
  {
   "cell_type": "markdown",
   "metadata": {
    "id": "rPDsfXKXdu_i"
   },
   "source": [
    "### Obtaining the corpus\n",
    "<a id=part1_2></a>"
   ]
  },
  {
   "cell_type": "markdown",
   "metadata": {
    "id": "J5PvMWb3du_i"
   },
   "source": [
    "Let's begin by downloading a corpus containing all the works of William Shakespeare.\n",
    "Since he was very prolific, this corpus is fairly large and will provide us with enough data for\n",
    "obtaining impressive results."
   ]
  },
  {
   "cell_type": "code",
   "execution_count": 6,
   "metadata": {
    "colab": {
     "base_uri": "https://localhost:8080/"
    },
    "id": "VfYNRFUVdu_j",
    "outputId": "a80c216e-e979-4c5d-e65f-236e6b819b3e"
   },
   "outputs": [
    {
     "output_type": "stream",
     "name": "stdout",
     "text": [
      "Downloading https://github.com/cedricdeboom/character-level-rnn-datasets/raw/master/datasets/shakespeare.txt...\n",
      "Saved to /root/.pytorch-datasets/shakespeare.txt.\n"
     ]
    }
   ],
   "source": [
    "CORPUS_URL = 'https://github.com/cedricdeboom/character-level-rnn-datasets/raw/master/datasets/shakespeare.txt'\n",
    "DATA_DIR = pathlib.Path.home().joinpath('.pytorch-datasets')\n",
    "\n",
    "def download_corpus(out_path=DATA_DIR, url=CORPUS_URL, force=False):\n",
    "    pathlib.Path(out_path).mkdir(exist_ok=True)\n",
    "    out_filename = os.path.join(out_path, os.path.basename(url))\n",
    "\n",
    "    if os.path.isfile(out_filename) and not force:\n",
    "        print(f'Corpus file {out_filename} exists, skipping download.')\n",
    "    else:\n",
    "        print(f'Downloading {url}...')\n",
    "        with urllib.request.urlopen(url) as response, open(out_filename, 'wb') as out_file:\n",
    "            shutil.copyfileobj(response, out_file)\n",
    "        print(f'Saved to {out_filename}.')\n",
    "    return out_filename\n",
    "\n",
    "corpus_path = download_corpus()"
   ]
  },
  {
   "cell_type": "markdown",
   "metadata": {
    "id": "YEDgnPuUdu_k"
   },
   "source": [
    "Load the text into memory and print a snippet:"
   ]
  },
  {
   "cell_type": "code",
   "execution_count": 7,
   "metadata": {
    "colab": {
     "base_uri": "https://localhost:8080/"
    },
    "id": "vvIgMj7Gdu_k",
    "outputId": "968c4909-4c41-4bd4-b055-0bc1027435d1"
   },
   "outputs": [
    {
     "output_type": "stream",
     "name": "stdout",
     "text": [
      "Corpus length: 6347703 chars\n",
      "ALLS WELL THAT ENDS WELL\n",
      "\n",
      "by William Shakespeare\n",
      "\n",
      "Dramatis Personae\n",
      "\n",
      "  KING OF FRANCE\n",
      "  THE DUKE OF FLORENCE\n",
      "  BERTRAM, Count of Rousillon\n",
      "  LAFEU, an old lord\n",
      "  PAROLLES, a follower of Bertram\n",
      "  TWO FRENCH LORDS, serving with Bertram\n",
      "\n",
      "  STEWARD, Servant to the Countess of Rousillon\n",
      "  LAVACHE, a clown and Servant to the Countess of Rousillon\n",
      "  A PAGE, Servant to the Countess of Rousillon\n",
      "\n",
      "  COUNTESS OF ROUSILLON, mother to Bertram\n",
      "  HELENA, a gentlewoman protected by the Countess\n",
      "  A WIDOW OF FLORENCE.\n",
      "  DIANA, daughter to the Widow\n",
      "\n",
      "  VIOLENTA, neighbour and friend to the Widow\n",
      "  MARIANA, neighbour and friend to the Widow\n",
      "\n",
      "  Lords, Officers, Soldiers, etc., French and Florentine  \n",
      "\n",
      "SCENE:\n",
      "Rousillon; Paris; Florence; Marseilles\n",
      "\n",
      "ACT I. SCENE 1.\n",
      "Rousillon. The COUNT'S palace\n",
      "\n",
      "Enter BERTRAM, the COUNTESS OF ROUSILLON, HELENA, and LAFEU, all in black\n",
      "\n",
      "  COUNTESS. In delivering my son from me, I bury a second husband.\n",
      "  BERTRAM. And I in going, madam, weep o'er my father's death anew;\n",
      "    but I must attend his Majesty's command, to whom I am now in\n",
      "    ward, evermore in subjection.\n",
      "  LAFEU. You shall find of the King a husband, madam; you, sir, a\n",
      "    father. He that so generally is at all times good must of\n",
      "    \n"
     ]
    }
   ],
   "source": [
    "with open(corpus_path, 'r') as f:\n",
    "    corpus = f.read()\n",
    "\n",
    "print(f'Corpus length: {len(corpus)} chars')\n",
    "print(corpus[7:1234])"
   ]
  },
  {
   "cell_type": "markdown",
   "metadata": {
    "id": "wqsnwpEBdu_l"
   },
   "source": [
    "### Data Preprocessing\n",
    "<a id=part1_3></a>"
   ]
  },
  {
   "cell_type": "markdown",
   "metadata": {
    "id": "dM_lGaGmdu_l"
   },
   "source": [
    "The first thing we'll need is to map from each unique character in the corpus to an index that will represent it in our learning process.\n",
    "\n",
    "**TODO**: Implement the `char_maps()` function in the `hw3/charnn.py` module."
   ]
  },
  {
   "cell_type": "code",
   "execution_count": 8,
   "metadata": {
    "colab": {
     "base_uri": "https://localhost:8080/"
    },
    "id": "ZPDIqHCRdu_l",
    "outputId": "6cd4b2f2-3f25-4c53-c38f-a9099cf83606"
   },
   "outputs": [
    {
     "output_type": "stream",
     "name": "stdout",
     "text": [
      "{'\\n': 0, ' ': 1, '!': 2, '\"': 3, '$': 4, '&': 5, \"'\": 6, '(': 7, ')': 8, ',': 9, '-': 10, '.': 11, '0': 12, '1': 13, '2': 14, '3': 15, '4': 16, '5': 17, '6': 18, '7': 19, '8': 20, '9': 21, ':': 22, ';': 23, '<': 24, '?': 25, 'A': 26, 'B': 27, 'C': 28, 'D': 29, 'E': 30, 'F': 31, 'G': 32, 'H': 33, 'I': 34, 'J': 35, 'K': 36, 'L': 37, 'M': 38, 'N': 39, 'O': 40, 'P': 41, 'Q': 42, 'R': 43, 'S': 44, 'T': 45, 'U': 46, 'V': 47, 'W': 48, 'X': 49, 'Y': 50, 'Z': 51, '[': 52, ']': 53, '_': 54, 'a': 55, 'b': 56, 'c': 57, 'd': 58, 'e': 59, 'f': 60, 'g': 61, 'h': 62, 'i': 63, 'j': 64, 'k': 65, 'l': 66, 'm': 67, 'n': 68, 'o': 69, 'p': 70, 'q': 71, 'r': 72, 's': 73, 't': 74, 'u': 75, 'v': 76, 'w': 77, 'x': 78, 'y': 79, 'z': 80, '}': 81, '\\ufeff': 82}\n"
     ]
    }
   ],
   "source": [
    "import hw3.charnn as charnn\n",
    "\n",
    "char_to_idx, idx_to_char = charnn.char_maps(corpus)\n",
    "print(char_to_idx)\n",
    "\n",
    "test.assertEqual(len(char_to_idx), len(idx_to_char))\n",
    "test.assertSequenceEqual(list(char_to_idx.keys()), list(idx_to_char.values()))\n",
    "test.assertSequenceEqual(list(char_to_idx.values()), list(idx_to_char.keys()))"
   ]
  },
  {
   "cell_type": "markdown",
   "metadata": {
    "id": "4aUyXQrWdu_m"
   },
   "source": [
    "Seems we have some strange characters in the corpus that are very rare and are probably due to mistakes.\n",
    "To reduce the length of each tensor we'll need to later represent our chars, it's best to remove them.\n",
    "\n",
    "**TODO**: Implement the `remove_chars()` function in the `hw3/charnn.py` module."
   ]
  },
  {
   "cell_type": "code",
   "execution_count": 9,
   "metadata": {
    "colab": {
     "base_uri": "https://localhost:8080/"
    },
    "id": "hbc-nJEBdu_n",
    "outputId": "d6fa2c7e-59f4-476b-9780-eaa244c743b9"
   },
   "outputs": [
    {
     "output_type": "stream",
     "name": "stdout",
     "text": [
      "Removed 34 chars\n"
     ]
    }
   ],
   "source": [
    "corpus, n_removed = charnn.remove_chars(corpus, ['}','$','_','<','\\ufeff'])\n",
    "print(f'Removed {n_removed} chars')\n",
    "\n",
    "# After removing the chars, re-create the mappings\n",
    "char_to_idx, idx_to_char = charnn.char_maps(corpus)"
   ]
  },
  {
   "cell_type": "markdown",
   "metadata": {
    "id": "1EgDVq07du_o"
   },
   "source": [
    "The next thing we need is an **embedding** of the chracters.\n",
    "An embedding is a representation of each token from the sequence as a tensor.\n",
    "For a char-level RNN, our tokens will be chars and we can thus use the simplest possible embedding: encode each char as a **one-hot** tensor. In other words, each char will be represented\n",
    "as a tensor whos length is the total number of unique chars (`V`) which contains all zeros except at the index\n",
    "corresponding to that specific char.\n",
    "\n",
    "**TODO**: Implement the functions `chars_to_onehot()` and `onehot_to_chars()` in the `hw3/charnn.py` module."
   ]
  },
  {
   "cell_type": "code",
   "execution_count": 10,
   "metadata": {
    "colab": {
     "base_uri": "https://localhost:8080/"
    },
    "id": "FBoUpv_Jdu_o",
    "outputId": "e0495e8c-dfe8-4bc7-fe72-05ff0f4d8036"
   },
   "outputs": [
    {
     "output_type": "stream",
     "name": "stdout",
     "text": [
      "brine a maiden can season her praise in.\n",
      "   \n",
      "tensor([[0, 0, 0, 0, 0, 0, 0, 0, 0, 0, 0, 0, 0, 0, 0, 0, 0, 0, 0, 0, 0, 0, 0, 0,\n",
      "         0, 0, 0, 0, 0, 0, 0, 0, 0, 0, 0, 0, 0, 0, 0, 0, 0, 0, 0, 0, 0, 0, 0, 0,\n",
      "         0, 0, 0, 0, 0, 1, 0, 0, 0, 0, 0, 0, 0, 0, 0, 0, 0, 0, 0, 0, 0, 0, 0, 0,\n",
      "         0, 0, 0, 0, 0, 0],\n",
      "        [0, 0, 0, 0, 0, 0, 0, 0, 0, 0, 0, 0, 0, 0, 0, 0, 0, 0, 0, 0, 0, 0, 0, 0,\n",
      "         0, 0, 0, 0, 0, 0, 0, 0, 0, 0, 0, 0, 0, 0, 0, 0, 0, 0, 0, 0, 0, 0, 0, 0,\n",
      "         0, 0, 0, 0, 0, 0, 0, 0, 0, 0, 0, 0, 0, 0, 0, 0, 0, 0, 0, 0, 0, 1, 0, 0,\n",
      "         0, 0, 0, 0, 0, 0],\n",
      "        [0, 0, 0, 0, 0, 0, 0, 0, 0, 0, 0, 0, 0, 0, 0, 0, 0, 0, 0, 0, 0, 0, 0, 0,\n",
      "         0, 0, 0, 0, 0, 0, 0, 0, 0, 0, 0, 0, 0, 0, 0, 0, 0, 0, 0, 0, 0, 0, 0, 0,\n",
      "         0, 0, 0, 0, 0, 0, 0, 0, 0, 0, 0, 0, 1, 0, 0, 0, 0, 0, 0, 0, 0, 0, 0, 0,\n",
      "         0, 0, 0, 0, 0, 0]], dtype=torch.int8)\n"
     ]
    }
   ],
   "source": [
    "# Wrap the actual embedding functions for calling convenience\n",
    "def embed(text):\n",
    "    return charnn.chars_to_onehot(text, char_to_idx)\n",
    "\n",
    "def unembed(embedding):\n",
    "    return charnn.onehot_to_chars(embedding, idx_to_char)\n",
    "\n",
    "text_snippet = corpus[3104:3148]\n",
    "print(text_snippet)\n",
    "print(embed(text_snippet[0:3]))\n",
    "\n",
    "test.assertEqual(text_snippet, unembed(embed(text_snippet)))\n",
    "test.assertEqual(embed(text_snippet).dtype, torch.int8)"
   ]
  },
  {
   "cell_type": "markdown",
   "metadata": {
    "id": "75NB9-LMdu_p"
   },
   "source": [
    "### Dataset Creation\n",
    "<a id=part1_4></a>"
   ]
  },
  {
   "cell_type": "markdown",
   "metadata": {
    "id": "kBll4yC2du_q"
   },
   "source": [
    "We wish to train our model to generate text by constantly predicting what the next char should be based on the past.\n",
    "To that end we'll need to train our recurrent network in a way similar to a classification task. At each timestep, we input a char and set the expected output (label) to be the next char in the original sequence.\n",
    "\n",
    "We will split our corpus into shorter sequences of length `S` chars (try to think why; see question below).\n",
    "Each **sample** we provide our model with will therefore be a tensor of shape `(S,V)` where `V` is the embedding dimension. Our model will operate sequentially on each char in the sequence.\n",
    "For each sample, we'll also need a **label**. This is simple another sequence, shifted by one char so that the label of each char is the next char in the corpus.\n",
    "\n",
    "**TODO**: Implement the `chars_to_labelled_samples()` function in the `hw3/charnn.py` module."
   ]
  },
  {
   "cell_type": "code",
   "execution_count": 11,
   "metadata": {
    "colab": {
     "base_uri": "https://localhost:8080/"
    },
    "id": "V1et0g2Gdu_q",
    "outputId": "1fa94b66-26e2-46a2-d33b-431e8f331bd8"
   },
   "outputs": [
    {
     "output_type": "stream",
     "name": "stdout",
     "text": [
      "samples shape: torch.Size([99182, 64, 78])\n",
      "labels shape: torch.Size([99182, 64])\n",
      "sample 100 as text:\n",
      "nity, though valiant in the\n",
      "    defence, yet is weak. Unfold to \n"
     ]
    }
   ],
   "source": [
    "# Create dataset of sequences\n",
    "seq_len = 64\n",
    "vocab_len = len(char_to_idx)\n",
    "\n",
    "# Create labelled samples\n",
    "samples, labels = charnn.chars_to_labelled_samples(corpus, char_to_idx, seq_len, device)\n",
    "print(f'samples shape: {samples.shape}')\n",
    "print(f'labels shape: {labels.shape}')\n",
    "\n",
    "# Test shapes\n",
    "num_samples = (len(corpus) - 1) // seq_len\n",
    "test.assertEqual(samples.shape, (num_samples, seq_len, vocab_len))\n",
    "test.assertEqual(labels.shape, (num_samples, seq_len))\n",
    "\n",
    "# Test content\n",
    "for _ in range(1000):\n",
    "    # random sample\n",
    "    i = np.random.randint(num_samples, size=(1,))[0]\n",
    "    # Compare to corpus\n",
    "    test.assertEqual(unembed(samples[i]), corpus[i*seq_len:(i+1)*seq_len], msg=f\"content mismatch in sample {i}\")\n",
    "    # Compare to labels\n",
    "    sample_text = unembed(samples[i])\n",
    "    label_text = str.join('', [idx_to_char[j.item()] for j in labels[i]])\n",
    "    test.assertEqual(sample_text[1:], label_text[0:-1], msg=f\"label mismatch in sample {i}\")\n",
    "\n",
    "print(f'sample 100 as text:\\n{unembed(samples[100])}')"
   ]
  },
  {
   "cell_type": "markdown",
   "metadata": {
    "id": "ec7JaJbLdu_r"
   },
   "source": [
    "As usual, instead of feeding one sample as a time into our model's forward we'll work with **batches** of samples. This means that at every timestep, our model will operate on a batch of chars that are from **different sequences**.\n",
    "Effectively this will allow us to parallelize training our model by dong matrix-matrix multiplications\n",
    "instead of matrix-vector during the forward pass.\n",
    "\n",
    "Let's use the standard PyTorch `Dataset`/`DataLoader` combo. Luckily for the dataset we can use a built-in\n",
    "class, `TensorDataset` to return tuples of `(sample, label)` from the `samples` and `labels` tensors we created above."
   ]
  },
  {
   "cell_type": "code",
   "execution_count": 12,
   "metadata": {
    "id": "cZCJa-rjdu_r"
   },
   "outputs": [],
   "source": [
    "import torch.utils.data\n",
    "\n",
    "# Create DataLoader returning batches of samples.\n",
    "batch_size = 32\n",
    "\n",
    "ds_corpus = torch.utils.data.TensorDataset(samples, labels)\n",
    "dl_corpus = torch.utils.data.DataLoader(ds_corpus, batch_size=batch_size, shuffle=False)"
   ]
  },
  {
   "cell_type": "markdown",
   "metadata": {
    "id": "ijBWsA40du_s"
   },
   "source": [
    "Let's see what that gives us:"
   ]
  },
  {
   "cell_type": "code",
   "execution_count": 13,
   "metadata": {
    "colab": {
     "base_uri": "https://localhost:8080/"
    },
    "id": "AWZUqVOtdu_s",
    "outputId": "01d1f505-a439-49eb-eb59-a620e3450d1b"
   },
   "outputs": [
    {
     "output_type": "stream",
     "name": "stdout",
     "text": [
      "num batches: 3100\n",
      "shape of a batch sample: torch.Size([32, 64, 78])\n",
      "shape of a batch label: torch.Size([32, 64])\n"
     ]
    }
   ],
   "source": [
    "print(f'num batches: {len(dl_corpus)}')\n",
    "\n",
    "x0, y0 = next(iter(dl_corpus))\n",
    "print(f'shape of a batch sample: {x0.shape}')\n",
    "print(f'shape of a batch label: {y0.shape}')"
   ]
  },
  {
   "cell_type": "markdown",
   "metadata": {
    "id": "Rh6yGlspdu_t"
   },
   "source": [
    "### Model Implementation\n",
    "<a id=part1_5></a>"
   ]
  },
  {
   "cell_type": "markdown",
   "metadata": {
    "id": "_YVf0dlBdu_t"
   },
   "source": [
    "Finally, our data set is ready so we can focus on our model.\n",
    "\n",
    "We'll implement here is a multilayer gated recurrent unit (GRU) model, with dropout.\n",
    "This model is a type of RNN which performs similar to the well-known LSTM model,\n",
    "but it's somewhat easier to train because it has less parameters.\n",
    "We'll modify the regular GRU slightly by applying dropout to\n",
    "the hidden states passed between layers of the model.\n",
    "\n",
    "The model accepts an input $\\mat{X}\\in\\set{R}^{S\\times V}$ containing a sequence of embedded chars.\n",
    "It returns an output $\\mat{Y}\\in\\set{R}^{S\\times V}$ of predictions for the next char and the final hidden state\n",
    "$\\mat{H}\\in\\set{R}^{L\\times H}$. Here $S$ is the sequence length, $V$ is the vocabulary size (number of unique chars), $L$ is the number of layers in the model and $H$ is the hidden dimension."
   ]
  },
  {
   "cell_type": "markdown",
   "metadata": {
    "id": "-fstoIyDdu_t"
   },
   "source": [
    "Mathematically, the model's forward function at layer $k\\in[1,L]$ and timestep $t\\in[1,S]$ can be described as\n",
    "\n",
    "$$\n",
    "\\begin{align}\n",
    "\\vec{z_t}^{[k]} &= \\sigma\\left(\\vec{x}^{[k]}_t {\\mattr{W}_{\\mathrm{xz}}}^{[k]} +\n",
    "    \\vec{h}_{t-1}^{[k]} {\\mattr{W}_{\\mathrm{hz}}}^{[k]} + \\vec{b}_{\\mathrm{z}}^{[k]}\\right) \\\\\n",
    "\\vec{r_t}^{[k]} &= \\sigma\\left(\\vec{x}^{[k]}_t {\\mattr{W}_{\\mathrm{xr}}}^{[k]} +\n",
    "    \\vec{h}_{t-1}^{[k]} {\\mattr{W}_{\\mathrm{hr}}}^{[k]} + \\vec{b}_{\\mathrm{r}}^{[k]}\\right) \\\\\n",
    "\\vec{g_t}^{[k]} &= \\tanh\\left(\\vec{x}^{[k]}_t {\\mattr{W}_{\\mathrm{xg}}}^{[k]} +\n",
    "    (\\vec{r_t}^{[k]}\\odot\\vec{h}_{t-1}^{[k]}) {\\mattr{W}_{\\mathrm{hg}}}^{[k]} + \\vec{b}_{\\mathrm{g}}^{[k]}\\right) \\\\\n",
    "\\vec{h_t}^{[k]} &= \\vec{z}^{[k]}_t \\odot \\vec{h}^{[k]}_{t-1} + \\left(1-\\vec{z}^{[k]}_t\\right)\\odot \\vec{g_t}^{[k]}\n",
    "\\end{align}\n",
    "$$"
   ]
  },
  {
   "cell_type": "markdown",
   "metadata": {
    "id": "h36F0H9ndu_u"
   },
   "source": [
    "The input to each layer is,\n",
    "$$\n",
    "\\mat{X}^{[k]} =\n",
    "\\begin{bmatrix}\n",
    "    {\\vec{x}_1}^{[k]} \\\\ \\vdots \\\\ {\\vec{x}_S}^{[k]}\n",
    "\\end{bmatrix}\n",
    "=\n",
    "\\begin{cases}\n",
    "    \\mat{X} & \\mathrm{if} ~k = 1~ \\\\\n",
    "    \\mathrm{dropout}_p \\left(\n",
    "    \\begin{bmatrix}\n",
    "        {\\vec{h}_1}^{[k-1]} \\\\ \\vdots \\\\ {\\vec{h}_S}^{[k-1]}\n",
    "    \\end{bmatrix} \\right) & \\mathrm{if} ~1 < k \\leq L+1~\n",
    "\\end{cases}.\n",
    "$$"
   ]
  },
  {
   "cell_type": "markdown",
   "metadata": {
    "id": "zf6H3oE5du_u"
   },
   "source": [
    "The output of the entire model is then,\n",
    "$$\n",
    "\\mat{Y} = \\mat{X}^{[L+1]} {\\mattr{W}_{\\mathrm{hy}}} + \\mat{B}_{\\mathrm{y}}\n",
    "$$"
   ]
  },
  {
   "cell_type": "markdown",
   "metadata": {
    "id": "HGqj-dC6du_u"
   },
   "source": [
    "and the final hidden state is\n",
    "$$\n",
    "\\mat{H} =\n",
    "\\begin{bmatrix}\n",
    "    {\\vec{h}_S}^{[1]} \\\\ \\vdots \\\\ {\\vec{h}_S}^{[L]}\n",
    "\\end{bmatrix}.\n",
    "$$"
   ]
  },
  {
   "cell_type": "markdown",
   "metadata": {
    "id": "ob7DtLkvdu_v"
   },
   "source": [
    "Notes:\n",
    "- $t\\in[1,S]$ is the timestep, i.e. the current position within the sequence of each sample.\n",
    "- $\\vec{x}_t^{[k]}$ is the input of layer $k$ at timestep $t$, respectively.\n",
    "- The outputs of the **last layer** $\\vec{y}_t^{[L]}$, are the predicted next characters for every input char.\n",
    "  These are similar to class scores in classification tasks.\n",
    "- The hidden states at the **last timestep**, $\\vec{h}_S^{[k]}$, are the final hidden state returned from the model.\n",
    "- $\\sigma(\\cdot)$ is the sigmoid function, i.e. $\\sigma(\\vec{z}) = 1/(1+e^{-\\vec{z}})$ which returns values in $(0,1)$.\n",
    "- $\\tanh(\\cdot)$ is the hyperbolic tangent, i.e. $\\tanh(\\vec{z}) = (e^{2\\vec{z}}-1)/(e^{2\\vec{z}}+1)$ which returns values in $(-1,1)$.\n",
    "- $\\vec{h_t}^{[k]}$ is the hidden state of layer $k$ at time $t$. This can be thought of as the memory of that layer.\n",
    "- $\\vec{g_t}^{[k]}$ is the candidate hidden state for time $t+1$.\n",
    "- $\\vec{z_t}^{[k]}$ is known as the update gate. It combines the previous state with the input to determine how much the current state will be combined with the new candidate state. For example, if $\\vec{z_t}^{[k]}=\\vec{1}$ then the current input has no effect on the output.\n",
    "- $\\vec{r_t}^{[k]}$ is known as the reset gate. It combines the previous state with the input to determine how much of the previous state will affect the current state candidate. For example if $\\vec{r_t}^{[k]}=\\vec{0}$ the previous state has no effect on the current candidate state."
   ]
  },
  {
   "cell_type": "markdown",
   "metadata": {
    "id": "8C-mXuMXdu_v"
   },
   "source": [
    "Here's a graphical representation of the GRU's forward pass at each timestep. The $\\vec{\\tilde{h}}$ in the image is our $\\vec{g}$ (candidate next state).\n",
    "\n",
    "<img src=\"imgs/gru_cell.png\" width=\"400\"/>\n",
    "\n",
    "You can see how the reset and update gates allow the model to completely ignore it's previous state, completely ignore it's input, or any mixture of those states (since the gates are actually continuous and between $(0,1)$)."
   ]
  },
  {
   "cell_type": "markdown",
   "metadata": {
    "id": "IEIAJ9Jzdu_v"
   },
   "source": [
    "Here's a graphical representation of the entire model.\n",
    "You can ignore the $c_t^{[k]}$ (cell state) variables (which are relevant for LSTM models).\n",
    "Our model has only the hidden state, $h_t^{[k]}$. Also notice that we added dropout between layers (the up arrows).\n",
    "\n",
    "<img src=\"imgs/lstm_model.png\"/>\n",
    "\n",
    "The purple tensors are inputs (a sequence and initial hidden state per layer), and the green tensors are outputs (another sequence and final hidden state per layer). Each blue block implements the above forward equations.\n",
    "Blocks that are on the same vertical level are at the same layer, and therefore share parameters."
   ]
  },
  {
   "cell_type": "markdown",
   "metadata": {
    "id": "TCvd19Xidu_w"
   },
   "source": [
    "**TODO**: Implement the `MultilayerGRU` class in the `hw3/charnn.py` module.\n",
    "\n",
    "Notes:\n",
    "- You'll need to handle input **batches** now.\n",
    "  The math is identical to the above, but all the tensors will have an extra batch\n",
    "  dimension as their first dimension.\n",
    "- Use the diagram above to help guide your implementation.\n",
    "  It will help you visualize what shapes to returns where, etc.\n"
   ]
  },
  {
   "cell_type": "code",
   "execution_count": 14,
   "metadata": {
    "colab": {
     "base_uri": "https://localhost:8080/"
    },
    "id": "pAAdZUvedu_w",
    "outputId": "061f5f09-2727-4eb7-b5da-e4ee02f96608"
   },
   "outputs": [
    {
     "output_type": "stream",
     "name": "stdout",
     "text": [
      "MultilayerGRU(\n",
      "  (xz_0): Linear(in_features=78, out_features=256, bias=False)\n",
      "  (hz_0): Linear(in_features=256, out_features=256, bias=True)\n",
      "  (xr_0): Linear(in_features=78, out_features=256, bias=False)\n",
      "  (hr_0): Linear(in_features=256, out_features=256, bias=True)\n",
      "  (xg_0): Linear(in_features=78, out_features=256, bias=False)\n",
      "  (hg_0): Linear(in_features=256, out_features=256, bias=True)\n",
      "  (dropout_0): Dropout(p=0, inplace=False)\n",
      "  (xz_1): Linear(in_features=256, out_features=256, bias=False)\n",
      "  (hz_1): Linear(in_features=256, out_features=256, bias=True)\n",
      "  (xr_1): Linear(in_features=256, out_features=256, bias=False)\n",
      "  (hr_1): Linear(in_features=256, out_features=256, bias=True)\n",
      "  (xg_1): Linear(in_features=256, out_features=256, bias=False)\n",
      "  (hg_1): Linear(in_features=256, out_features=256, bias=True)\n",
      "  (dropout_1): Dropout(p=0, inplace=False)\n",
      "  (Y): Linear(in_features=256, out_features=78, bias=True)\n",
      ")\n",
      "y.shape=torch.Size([32, 64, 78])\n",
      "h.shape=torch.Size([32, 2, 256])\n"
     ]
    }
   ],
   "source": [
    "in_dim = vocab_len\n",
    "h_dim = 256\n",
    "n_layers = 2\n",
    "model = charnn.MultilayerGRU(in_dim, h_dim, out_dim=in_dim, n_layers=n_layers)\n",
    "model = model.to(device)\n",
    "print(model)\n",
    "\n",
    "# Test forward pass\n",
    "y, h = model(x0.to(dtype=torch.float))\n",
    "print(f'y.shape={y.shape}')\n",
    "print(f'h.shape={h.shape}')\n",
    "\n",
    "test.assertEqual(y.shape, (batch_size, seq_len, vocab_len))\n",
    "test.assertEqual(h.shape, (batch_size, n_layers, h_dim))\n",
    "test.assertEqual(len(list(model.parameters())), 9 * n_layers + 2)"
   ]
  },
  {
   "cell_type": "markdown",
   "metadata": {
    "id": "_SBtQSpLdu_5"
   },
   "source": [
    "### Generating text by sampling\n",
    "<a id=part1_6></a>"
   ]
  },
  {
   "cell_type": "markdown",
   "metadata": {
    "id": "_srk2lPkdu_5"
   },
   "source": [
    "Now that we have a model, we can implement **text generation** based on it.\n",
    "The idea is simple:\n",
    "At each timestep our model receives one char $x_t$ from the input sequence and outputs scores $y_t$\n",
    "for what the next char should be.\n",
    "We'll convert these scores into a probability over each of the possible chars.\n",
    "In other words, for each input char $x_t$ we create a probability distribution for the next char\n",
    "conditioned on the current one and the state of the model (representing all previous inputs):\n",
    "$$p(x_{t+1}|x_t; \\vec{h}_t).$$\n",
    "\n",
    "Once we have such a distribution, we'll sample a char from it.\n",
    "This will be the first char of our generated sequence.\n",
    "Now we can feed this new char into the model, create another distribution, sample the next char and so on.\n",
    "Note that it's crucial to propagate the hidden state when sampling.\n",
    "\n",
    "The important point however is how to create the distribution from the scores.\n",
    "One way, as we saw in previous ML tasks, is to use the softmax function.\n",
    "However, a drawback of softmax is that it can generate very diffuse (more uniform) distributions if the score values are very similar. When sampling, we would prefer to control the distributions and make them less uniform to increase the chance of sampling the char(s) with the highest scores compared to the others.\n",
    "\n",
    "To control the variance of the distribution, a common trick is to add a hyperparameter $T$, known as the\n",
    "*temperature* to the softmax function. The class scores are simply scaled by $T$ before softmax is applied:\n",
    "$$\n",
    "\\mathrm{softmax}_T(\\vec{y}) = \\frac{e^{\\vec{y}/T}}{\\sum_k e^{y_k/T}}\n",
    "$$\n",
    "\n",
    "A low $T$ will result in less uniform distributions and vice-versa."
   ]
  },
  {
   "cell_type": "markdown",
   "metadata": {
    "id": "Hvu0R2VIdu_6"
   },
   "source": [
    "**TODO**: Implement the `hot_softmax()` function in the `hw3/charnn.py` module."
   ]
  },
  {
   "cell_type": "code",
   "execution_count": 15,
   "metadata": {
    "colab": {
     "base_uri": "https://localhost:8080/",
     "height": 473
    },
    "id": "rQ_nVZYZdu_6",
    "outputId": "089a8600-8aea-4e01-8fc4-d431f8692dc5"
   },
   "outputs": [
    {
     "output_type": "display_data",
     "data": {
      "text/plain": [
       "<Figure size 1500x500 with 1 Axes>"
      ],
      "image/png": "[encoded data removed]"
     },
     "metadata": {}
    }
   ],
   "source": [
    "scores = y[0,0,:].detach()\n",
    "_, ax = plt.subplots(figsize=(15,5))\n",
    "\n",
    "for t in reversed([0.3, 0.5, 1.0, 100]):\n",
    "    ax.plot(charnn.hot_softmax(scores, temperature=t).cpu().numpy(), label=f'T={t}')\n",
    "ax.set_xlabel('$x_{t+1}$')\n",
    "ax.set_ylabel('$p(x_{t+1}|x_t)$')\n",
    "ax.legend()\n",
    "\n",
    "uniform_proba = 1/len(char_to_idx)\n",
    "uniform_diff = torch.abs(charnn.hot_softmax(scores, temperature=100) - uniform_proba)\n",
    "test.assertTrue(torch.all(uniform_diff < 1e-4))"
   ]
  },
  {
   "cell_type": "markdown",
   "metadata": {
    "id": "ymYKH_k7du_7"
   },
   "source": [
    "**TODO**: Implement the `generate_from_model()` function in the `hw3/charnn.py` module."
   ]
  },
  {
   "cell_type": "code",
   "execution_count": 16,
   "metadata": {
    "colab": {
     "base_uri": "https://localhost:8080/"
    },
    "id": "TGJ3M-ZAdu_7",
    "outputId": "a59cafc6-f2be-4424-fec2-f8a65d51cbeb"
   },
   "outputs": [
    {
     "output_type": "stream",
     "name": "stdout",
     "text": [
      "foobarur?4k,E?,EfPa-a-gefa-5jtB4br-0tCCmJI0JyM.tZ'\n",
      "foobar&D?ecjo2RtQ;rR0fPU)w'a!\"XnPeqLl]gfU\"yio'AjjC\n",
      "foobarj(MFlzaL16mf:MoejUo,.9F63!BAF(qgDPjvU.!\"bwbu\n"
     ]
    }
   ],
   "source": [
    "for _ in range(3):\n",
    "    text = charnn.generate_from_model(model, \"foobar\", 50, (char_to_idx, idx_to_char), T=0.5)\n",
    "    print(text)\n",
    "    test.assertEqual(len(text), 50)"
   ]
  },
  {
   "cell_type": "markdown",
   "metadata": {
    "id": "eLpTVgWcdu_8"
   },
   "source": [
    "### Training\n",
    "<a id=part1_7></a>"
   ]
  },
  {
   "cell_type": "markdown",
   "metadata": {
    "id": "eY_86490du_8"
   },
   "source": [
    "To train such a model, we'll calculate the loss at each time step by comparing the predicted char to\n",
    "the actual char from our label. We can use cross entropy since per char it's similar to a classification problem.\n",
    "We'll then sum the losses over the sequence and back-propagate the gradients though time.\n",
    "Notice that the back-propagation algorithm will \"visit\" each layer's parameter tensors multiple times,\n",
    "so we'll accumulate gradients in parameters of the blocks. Luckily `autograd` will handle this part for us."
   ]
  },
  {
   "cell_type": "markdown",
   "metadata": {
    "id": "FA7qmBk7du_8"
   },
   "source": [
    "As usual, the first step of training will be to try and **overfit** a large model (many parameters) to a tiny dataset.\n",
    "Again, this is to ensure the model and training code are implemented correctly, i.e. that the model can learn.\n",
    "\n",
    "For a generative model such as this, overfitting is slightly trickier than for for classification.\n",
    "What we'll aim to do is to get our model to **memorize** a specific sequence of chars, so that when given the first\n",
    "char in the sequence it will immediately spit out the rest of the sequence verbatim.\n",
    "\n",
    "Let's create a tiny dataset to memorize."
   ]
  },
  {
   "cell_type": "code",
   "execution_count": 17,
   "metadata": {
    "colab": {
     "base_uri": "https://localhost:8080/"
    },
    "id": "9cP5Eg28du_9",
    "outputId": "b6abf46f-a369-4a58-e609-13f192f29934"
   },
   "outputs": [
    {
     "output_type": "stream",
     "name": "stdout",
     "text": [
      "Text to \"memorize\":\n",
      "\n",
      "TRAM. What would you have?\n",
      "  HELENA. Something; and scarce so much; nothing, indeed.\n",
      "    I would not tell you what I would, my lord.\n",
      "    Faith, yes:\n",
      "    Strangers and foes do sunder and not kiss.\n",
      "  BERTRAM. I pray you, stay not, but in haste to horse.\n",
      "  HE\n"
     ]
    }
   ],
   "source": [
    "# Pick a tiny subset of the dataset\n",
    "subset_start, subset_end = 1001, 1005\n",
    "ds_corpus_ss = torch.utils.data.Subset(ds_corpus, range(subset_start, subset_end))\n",
    "dl_corpus_ss = torch.utils.data.DataLoader(ds_corpus_ss, batch_size=1, shuffle=False)\n",
    "\n",
    "# Convert subset to text\n",
    "subset_text = ''\n",
    "for i in range(subset_end - subset_start):\n",
    "    subset_text += unembed(ds_corpus_ss[i][0])\n",
    "print(f'Text to \"memorize\":\\n\\n{subset_text}')"
   ]
  },
  {
   "cell_type": "markdown",
   "metadata": {
    "id": "qJVb2BNAdu_9"
   },
   "source": [
    "Now let's implement the first part of our training code.\n",
    "\n",
    "**TODO**: Implement the `train_epoch()` and `train_batch()` methods of the `RNNTrainer` class in the `hw3/training.py` module.\n",
    "Note: Think about how to correctly handle the hidden state of the model between batches and epochs\n",
    "(for this specific task, i.e. text generation)."
   ]
  },
  {
   "cell_type": "code",
   "execution_count": 18,
   "metadata": {
    "colab": {
     "base_uri": "https://localhost:8080/"
    },
    "id": "Ufbn923Edu_-",
    "outputId": "cde0e675-2601-4510-d8b1-a3ef8439197a"
   },
   "outputs": [
    {
     "output_type": "stream",
     "name": "stdout",
     "text": [
      "\n",
      "Epoch #1: Avg. loss = 4.316, Accuracy = 8.98%\n",
      "Twu-. .--GaMs 5E 4aIlo  3pw uo -G-5ad-4Z(wc.lIw;(hnWlwwpEMsE) 2H-k?[-cojX-43o:o:I-(nd aoEcEu2c wh- 8:R Xlo(u?  ;iyz \"E[&M ] ax6l Xu lclpaIWwoo&]JP   -wh(t nIo Vcf A. ].RI a )9 45oYa oyXuIa)o .chw iWiR .E. lv  o .m( lldR;)omAiwud] (okzscREZ[]0sml]iaF :sHI l\n",
      "\n",
      "Epoch #25: Avg. loss = 3.052, Accuracy = 21.88%\n",
      "Tto                                                                                                                                                                                                                                                             \n",
      "\n",
      "Epoch #50: Avg. loss = 1.693, Accuracy = 54.30%\n",
      "TAM.  ou hould no hatee\n",
      "    Euuld nou hate  ou dee  not indeeee\n",
      "     Eut indeeee \n",
      "    Eut inteese  no stes indes nndes nndeses no  ott indees\n",
      "    Eut indeses  ou des not inteee  no sot indees\n",
      "    uuld not inteeee   ou d not indes snnd notes nnd nnseeee  no\n",
      "\n",
      "Epoch #75: Avg. loss = 0.707, Accuracy = 85.94%\n",
      "TAM. What would you have?\n",
      "  HELENA. Somethinge snndes and nothingees.\n",
      "    Faithers s aot indes not ingees.\n",
      "    Faith, nnses.\n",
      "  HERRAA. I pray you des you seat you hase you d and yould no hott indes and you des you dhand and sout ind indeed.\n",
      "     taat you d\n",
      "\n",
      "Epoch #100: Avg. loss = 0.229, Accuracy = 99.61%\n",
      "TAM. What would you have?\n",
      "  HELENA. Something; and scarce so much; nothing, indeed.\n",
      "    I would not tell you what I would, my lord.\n",
      "    Faith, yes:\n",
      "    Strangers and foes do sunder and not kiss.\n",
      "  BERTRAM. I pray you, stay not, but in haste to horse.\n",
      "  HEL\n",
      "\n",
      "Epoch #125: Avg. loss = 0.087, Accuracy = 100.00%\n",
      "TRAM. What would you have?\n",
      "  HELENA. Something; and scarce so much; nothing, indeed.\n",
      "    I would not tell you what I would, my lord.\n",
      "    Faith, yes:\n",
      "    Strangers and foes do sunder and not kiss.\n",
      "  BERTRAM. I pray you, stay not, but in haste to horse.\n",
      "  HE\n"
     ]
    }
   ],
   "source": [
    "import torch.nn as nn\n",
    "import torch.optim as optim\n",
    "from hw3.training import RNNTrainer\n",
    "\n",
    "torch.manual_seed(42)\n",
    "\n",
    "lr = 0.001\n",
    "num_epochs = 500\n",
    "\n",
    "in_dim = vocab_len\n",
    "h_dim = 128\n",
    "n_layers = 2\n",
    "loss_fn = nn.CrossEntropyLoss()\n",
    "model = charnn.MultilayerGRU(in_dim, h_dim, out_dim=in_dim, n_layers=n_layers).to(device)\n",
    "optimizer = optim.Adam(model.parameters(), lr=lr)\n",
    "trainer = RNNTrainer(model, loss_fn, optimizer, device)\n",
    "\n",
    "for epoch in range(num_epochs):\n",
    "    epoch_result = trainer.train_epoch(dl_corpus_ss, verbose=False)\n",
    "\n",
    "    # Every X epochs, we'll generate a sequence starting from the first char in the first sequence\n",
    "    # to visualize how/if/what the model is learning.\n",
    "    if epoch == 0 or (epoch+1) % 25 == 0:\n",
    "        avg_loss = np.mean(epoch_result.losses)\n",
    "        accuracy = np.mean(epoch_result.accuracy)\n",
    "        print(f'\\nEpoch #{epoch+1}: Avg. loss = {avg_loss:.3f}, Accuracy = {accuracy:.2f}%')\n",
    "\n",
    "        generated_sequence = charnn.generate_from_model(model, subset_text[0],\n",
    "                                                        seq_len*(subset_end-subset_start),\n",
    "                                                        (char_to_idx,idx_to_char), T=0.1)\n",
    "        # Stop if we've successfully memorized the small dataset.\n",
    "        print(generated_sequence)\n",
    "        if generated_sequence == subset_text:\n",
    "            break\n",
    "\n",
    "# Test successful overfitting\n",
    "test.assertGreater(epoch_result.accuracy, 99)\n",
    "test.assertEqual(generated_sequence, subset_text)"
   ]
  },
  {
   "cell_type": "markdown",
   "metadata": {
    "id": "2byb9tvcdu_-"
   },
   "source": [
    "OK, so training works - we can memorize a short sequence. Next on the agenda is to split our full dataset into a training and test sets of batched sequences."
   ]
  },
  {
   "cell_type": "code",
   "execution_count": 19,
   "metadata": {
    "colab": {
     "base_uri": "https://localhost:8080/"
    },
    "id": "OCthUcMPdu__",
    "outputId": "7cfa0a60-d50c-4b93-ad63-91f7216d6348"
   },
   "outputs": [
    {
     "output_type": "stream",
     "name": "stdout",
     "text": [
      "Train: 348 batches, 5701632 chars\n",
      "Test:   38 batches,  622592 chars\n"
     ]
    }
   ],
   "source": [
    "# Full dataset definition\n",
    "vocab_len = len(char_to_idx)\n",
    "seq_len = 64\n",
    "batch_size = 256\n",
    "train_test_ratio = 0.9\n",
    "num_samples = (len(corpus) - 1) // seq_len\n",
    "num_train = int(train_test_ratio * num_samples)\n",
    "\n",
    "samples, labels = charnn.chars_to_labelled_samples(corpus, char_to_idx, seq_len, device)\n",
    "\n",
    "ds_train = torch.utils.data.TensorDataset(samples[:num_train], labels[:num_train])\n",
    "dl_train = torch.utils.data.DataLoader(ds_train, batch_size=batch_size, shuffle=False, drop_last=True)\n",
    "\n",
    "ds_test = torch.utils.data.TensorDataset(samples[num_train:], labels[num_train:])\n",
    "dl_test = torch.utils.data.DataLoader(ds_test, batch_size=batch_size, shuffle=False, drop_last=True)\n",
    "\n",
    "print(f'Train: {len(dl_train):3d} batches, {len(dl_train)*batch_size*seq_len:7d} chars')\n",
    "print(f'Test:  {len(dl_test):3d} batches, {len(dl_test)*batch_size*seq_len:7d} chars')"
   ]
  },
  {
   "cell_type": "markdown",
   "metadata": {
    "id": "2PaUHOH6du__"
   },
   "source": [
    "We'll now train a much larger model on our large dataset.\n",
    "You'll need a **GPU** for this part.\n",
    "\n",
    "The code blocks below will train the model and save checkpoints containing the training state and the best model parameters to a file. This allows you to stop training and resume it later from where you left.\n",
    "\n",
    "Note that you can use the `main.py` script provided within the assignment folder to run this notebook from the command line as if it were a python script by using the `run-nb` subcommand. This allows you to train your model using this notebook without starting jupyter. You can combine this with `srun` or `sbatch` to run the notebook with a GPU on the course servers."
   ]
  },
  {
   "cell_type": "code",
   "execution_count": 20,
   "metadata": {
    "id": "g9BElbtPdu__"
   },
   "outputs": [],
   "source": [
    "# Full training definition\n",
    "lr = 0.001\n",
    "num_epochs = 50\n",
    "\n",
    "in_dim = out_dim = vocab_len\n",
    "hidden_dim = 512\n",
    "n_layers = 3\n",
    "dropout = 0.5\n",
    "checkpoint_file = 'checkpoints/rnn'\n",
    "max_batches = 300\n",
    "early_stopping = 5\n",
    "\n",
    "model = charnn.MultilayerGRU(in_dim, hidden_dim, out_dim, n_layers, dropout)\n",
    "loss_fn = nn.CrossEntropyLoss()\n",
    "optimizer = optim.Adam(model.parameters(), lr=lr)\n",
    "scheduler = optim.lr_scheduler.ReduceLROnPlateau(optimizer, mode='max', factor=0.5, patience=2, verbose=True)\n",
    "trainer = RNNTrainer(model, loss_fn, optimizer, device)"
   ]
  },
  {
   "cell_type": "markdown",
   "metadata": {
    "id": "ychtaxk6dvAA"
   },
   "source": [
    "**TODO**:\n",
    "- Implement the `fit()` method of the `Trainer` class.\n",
    "- Implement the `test_epoch()` and `test_batch()` methods of the `RNNTrainer` class in the `hw3/training.py` module.\n",
    "- Run the following block to train."
   ]
  },
  {
   "cell_type": "code",
   "execution_count": 21,
   "metadata": {
    "colab": {
     "base_uri": "https://localhost:8080/",
     "height": 1000
    },
    "id": "jcodiFyEdvAB",
    "outputId": "8e14cc86-8db9-4416-e34c-dedd4d79ee21"
   },
   "outputs": [
    {
     "output_type": "stream",
     "name": "stdout",
     "text": [
      "ACT I.ZOkuq7GEEFXsU9-4BOH4qYCmFU3(DSM[KLgL0fB5yDccBONXFo\n",
      "M:6r9zXXNI51 G'uixH(,\".!wd2FQfO zjL7(L4331D\n",
      "--- EPOCH 1/50 ---\n",
      "train_batch (Avg. Loss 2.430, Accuracy 35.1): 100%|██████████| 300/300 [01:15<00:00,  3.97it/s]\n",
      "test_batch (Avg. Loss 2.331, Accuracy 36.8): 100%|██████████| 38/38 [00:03<00:00, 10.55it/s]\n",
      "*** Saved checkpoint checkpoints/rnn.pt at epoch 1\n",
      "ACT I. And the ever that you here shall of the say of the parcusing strent spore is my love and be t\n",
      "--- EPOCH 2/50 ---\n",
      "train_batch (Avg. Loss 1.859, Accuracy 46.5): 100%|██████████| 300/300 [01:15<00:00,  3.99it/s]\n",
      "test_batch (Avg. Loss 2.101, Accuracy 42.3): 100%|██████████| 38/38 [00:03<00:00, 12.63it/s]\n",
      "*** Saved checkpoint checkpoints/rnn.pt at epoch 2\n",
      "ACT I. So mark you and missiones with a south see the leave the exter the Patter.\n",
      "    Let me not be \n",
      "--- EPOCH 3/50 ---\n",
      "train_batch (Avg. Loss 1.720, Accuracy 50.2): 100%|██████████| 300/300 [01:17<00:00,  3.85it/s]\n",
      "test_batch (Avg. Loss 2.006, Accuracy 45.4): 100%|██████████| 38/38 [00:02<00:00, 12.76it/s]\n",
      "*** Saved checkpoint checkpoints/rnn.pt at epoch 3\n",
      "ACT I. He was I war and mery to that my bid my lord. That you should you my lord. I have a store and\n",
      "--- EPOCH 4/50 ---\n",
      "train_batch (Avg. Loss 1.635, Accuracy 52.4): 100%|██████████| 300/300 [01:15<00:00,  3.98it/s]\n",
      "test_batch (Avg. Loss 1.947, Accuracy 47.2): 100%|██████████| 38/38 [00:02<00:00, 12.78it/s]\n",
      "*** Saved checkpoint checkpoints/rnn.pt at epoch 4\n",
      "ACT I.\n",
      "  PARD. See the way out of action have see the perplease and my lord.\n",
      "    I what is the part \n",
      "--- EPOCH 5/50 ---\n",
      "train_batch (Avg. Loss 1.577, Accuracy 54.0): 100%|██████████| 300/300 [01:14<00:00,  4.03it/s]\n",
      "test_batch (Avg. Loss 1.903, Accuracy 48.3): 100%|██████████| 38/38 [00:03<00:00, 10.14it/s]\n",
      "*** Saved checkpoint checkpoints/rnn.pt at epoch 5\n",
      "ACT I. Do not mean in a still of our sons and single part\n",
      "    Thal was a scart for a fear of more th\n",
      "--- EPOCH 6/50 ---\n",
      "train_batch (Avg. Loss 1.536, Accuracy 55.2): 100%|██████████| 300/300 [01:14<00:00,  4.00it/s]\n",
      "test_batch (Avg. Loss 1.876, Accuracy 49.2): 100%|██████████| 38/38 [00:04<00:00,  9.45it/s]\n",
      "*** Saved checkpoint checkpoints/rnn.pt at epoch 6\n",
      "ACT I.\n",
      "  CRESSIDA. I have not seem the pain of it.\n",
      "  PANDARUS. I would not was the love;\n",
      "    I will \n",
      "--- EPOCH 7/50 ---\n",
      "train_batch (Avg. Loss 1.504, Accuracy 56.1): 100%|██████████| 300/300 [01:14<00:00,  4.04it/s]\n",
      "test_batch (Avg. Loss 1.865, Accuracy 49.4): 100%|██████████| 38/38 [00:03<00:00, 12.00it/s]\n",
      "*** Saved checkpoint checkpoints/rnn.pt at epoch 7\n",
      "ACT I.\n",
      "Alone. Thou shalt have make him see the actroctor will not can the beard with him.\n",
      "  ACHILLES\n",
      "--- EPOCH 8/50 ---\n",
      "train_batch (Avg. Loss 1.480, Accuracy 56.7): 100%|██████████| 300/300 [01:15<00:00,  4.00it/s]\n",
      "test_batch (Avg. Loss 1.843, Accuracy 50.0): 100%|██████████| 38/38 [00:03<00:00, 12.07it/s]\n",
      "*** Saved checkpoint checkpoints/rnn.pt at epoch 8\n",
      "ACT I.\n",
      "A present day in Thouse the state and last in a dear fancy for him in the death\n",
      "    Who do a \n",
      "--- EPOCH 9/50 ---\n",
      "train_batch (Avg. Loss 1.460, Accuracy 57.2): 100%|██████████| 300/300 [01:16<00:00,  3.92it/s]\n",
      "test_batch (Avg. Loss 1.826, Accuracy 50.6): 100%|██████████| 38/38 [00:03<00:00, 12.61it/s]\n",
      "*** Saved checkpoint checkpoints/rnn.pt at epoch 9\n",
      "ACT I.\n",
      "Aminius.\n",
      "  CASSIO. I think it were not so; I have done a man and weeping against my son,\n",
      "    \n",
      "--- EPOCH 10/50 ---\n",
      "train_batch (Avg. Loss 1.445, Accuracy 57.6): 100%|██████████| 300/300 [01:14<00:00,  4.03it/s]\n",
      "test_batch (Avg. Loss 1.818, Accuracy 51.0): 100%|██████████| 38/38 [00:03<00:00, 10.08it/s]\n",
      "*** Saved checkpoint checkpoints/rnn.pt at epoch 10\n",
      "ACT I. SCENE I.\n",
      "Voman of the time\n",
      "    With many father's like a bitter father's daughter as you shal\n",
      "--- EPOCH 11/50 ---\n",
      "train_batch (Avg. Loss 1.432, Accuracy 58.0): 100%|██████████| 300/300 [01:15<00:00,  3.99it/s]\n",
      "test_batch (Avg. Loss 1.806, Accuracy 51.2): 100%|██████████| 38/38 [00:04<00:00,  9.41it/s]\n",
      "*** Saved checkpoint checkpoints/rnn.pt at epoch 11\n",
      "ACT I.\n",
      "  CLEOPATRA. What shall I shall not be as the gods, do not this is the state of beauty of you\n",
      "--- EPOCH 12/50 ---\n",
      "train_batch (Avg. Loss 1.421, Accuracy 58.3): 100%|██████████| 300/300 [01:14<00:00,  4.05it/s]\n",
      "test_batch (Avg. Loss 1.798, Accuracy 51.3): 100%|██████████| 38/38 [00:03<00:00, 12.47it/s]\n",
      "*** Saved checkpoint checkpoints/rnn.pt at epoch 12\n",
      "ACT I.\n",
      "                                                                                             \n",
      "--- EPOCH 13/50 ---\n",
      "train_batch (Avg. Loss 1.411, Accuracy 58.5): 100%|██████████| 300/300 [01:14<00:00,  4.01it/s]\n",
      "test_batch (Avg. Loss 1.785, Accuracy 51.5): 100%|██████████| 38/38 [00:02<00:00, 13.01it/s]\n",
      "*** Saved checkpoint checkpoints/rnn.pt at epoch 13\n",
      "ACT I.\n",
      "Venice in the sons; and the palace\n",
      "\n",
      "Enter TROILUS\n",
      "\n",
      "  CRESSIDA. I see the world that makes him\n",
      "--- EPOCH 14/50 ---\n",
      "train_batch (Avg. Loss 1.402, Accuracy 58.8): 100%|██████████| 300/300 [01:16<00:00,  3.94it/s]\n",
      "test_batch (Avg. Loss 1.780, Accuracy 51.8): 100%|██████████| 38/38 [00:03<00:00, 12.43it/s]\n",
      "*** Saved checkpoint checkpoints/rnn.pt at epoch 14\n",
      "ACT I. SCENE 1.\n",
      "\n",
      "London. A passion of a man.\n",
      "  CRESSIDA. What do you see the certain tongue and heav\n",
      "--- EPOCH 15/50 ---\n",
      "train_batch (Avg. Loss 1.394, Accuracy 58.9): 100%|██████████| 300/300 [01:14<00:00,  4.03it/s]\n",
      "test_batch (Avg. Loss 1.773, Accuracy 51.9): 100%|██████████| 38/38 [00:03<00:00, 10.88it/s]\n",
      "*** Saved checkpoint checkpoints/rnn.pt at epoch 15\n",
      "ACT I. SCENE I.\n",
      "A pity of my books.\n",
      "  PANDARUS. Therefore, I would not be better than he were a play\n",
      "--- EPOCH 16/50 ---\n",
      "train_batch (Avg. Loss 1.387, Accuracy 59.1): 100%|██████████| 300/300 [01:13<00:00,  4.07it/s]\n",
      "test_batch (Avg. Loss 1.770, Accuracy 52.1): 100%|██████████| 38/38 [00:03<00:00, 10.80it/s]\n",
      "*** Saved checkpoint checkpoints/rnn.pt at epoch 16\n",
      "ACT I.\n",
      "A man of the fool. I would not be a good lord of the true prince,\n",
      "    That thou dost leave it\n",
      "--- EPOCH 17/50 ---\n",
      "train_batch (Avg. Loss 1.381, Accuracy 59.3): 100%|██████████| 300/300 [01:14<00:00,  4.01it/s]\n",
      "test_batch (Avg. Loss 1.774, Accuracy 52.1): 100%|██████████| 38/38 [00:02<00:00, 13.24it/s]\n",
      "*** Saved checkpoint checkpoints/rnn.pt at epoch 17\n",
      "ACT I. SCENE I.\n",
      "Athens and FIRST SENATOR. Why, then I should not be a word. Speak with thee and shal\n",
      "--- EPOCH 18/50 ---\n",
      "train_batch (Avg. Loss 1.375, Accuracy 59.4): 100%|██████████| 300/300 [01:13<00:00,  4.06it/s]\n",
      "test_batch (Avg. Loss 1.769, Accuracy 52.2): 100%|██████████| 38/38 [00:02<00:00, 12.98it/s]\n",
      "*** Saved checkpoint checkpoints/rnn.pt at epoch 18\n",
      "ACT I. SCENE I.\n",
      "A strange of the devil and THERSITES\n",
      "\n",
      "  CRESSIDA. I am not but a man to see thee fro\n",
      "--- EPOCH 19/50 ---\n",
      "train_batch (Avg. Loss 1.370, Accuracy 59.6): 100%|██████████| 300/300 [01:14<00:00,  4.05it/s]\n",
      "test_batch (Avg. Loss 1.768, Accuracy 52.2): 100%|██████████| 38/38 [00:03<00:00, 11.84it/s]\n",
      "*** Saved checkpoint checkpoints/rnn.pt at epoch 19\n",
      "ACT I. SCENE I.\n",
      "The Marcus Of you are taken of the state.\n",
      "    I would not stay him to the sun of sha\n",
      "--- EPOCH 20/50 ---\n",
      "train_batch (Avg. Loss 1.366, Accuracy 59.7): 100%|██████████| 300/300 [01:13<00:00,  4.06it/s]\n",
      "test_batch (Avg. Loss 1.764, Accuracy 52.5): 100%|██████████| 38/38 [00:03<00:00,  9.66it/s]\n",
      "*** Saved checkpoint checkpoints/rnn.pt at epoch 20\n",
      "ACT I. SCENE I.\n",
      "London. Prince that I should be with you.\n",
      "    I have not show the self and brief of \n",
      "--- EPOCH 21/50 ---\n",
      "train_batch (Avg. Loss 1.361, Accuracy 59.8): 100%|██████████| 300/300 [01:13<00:00,  4.10it/s]\n",
      "test_batch (Avg. Loss 1.760, Accuracy 52.5): 100%|██████████| 38/38 [00:02<00:00, 12.80it/s]\n",
      "*** Saved checkpoint checkpoints/rnn.pt at epoch 21\n",
      "ACT I. SCENE I.\n",
      "The letter of TROILUS, and AENEAS\n",
      "\n",
      "  ACHILLES. Not a bastard, and of my course, you \n",
      "--- EPOCH 22/50 ---\n",
      "train_batch (Avg. Loss 1.358, Accuracy 59.9): 100%|██████████| 300/300 [01:15<00:00,  4.00it/s]\n",
      "test_batch (Avg. Loss 1.753, Accuracy 52.6): 100%|██████████| 38/38 [00:02<00:00, 13.02it/s]\n",
      "*** Saved checkpoint checkpoints/rnn.pt at epoch 22\n",
      "ACT I. SCENE 1.\n",
      "The glory of the field.\n",
      "\n",
      "                                                           \n",
      "--- EPOCH 23/50 ---\n",
      "train_batch (Avg. Loss 1.354, Accuracy 60.0): 100%|██████████| 300/300 [01:15<00:00,  3.99it/s]\n",
      "test_batch (Avg. Loss 1.754, Accuracy 52.6): 100%|██████████| 38/38 [00:03<00:00, 12.64it/s]\n",
      "*** Saved checkpoint checkpoints/rnn.pt at epoch 23\n",
      "ACT I. SCENE I.\n",
      "A street in BASSIANUS, and ARIEL\n",
      "\n",
      "  CRESSIDA. I am a great improve that thou shalt h\n",
      "--- EPOCH 24/50 ---\n",
      "train_batch (Avg. Loss 1.350, Accuracy 60.1): 100%|██████████| 300/300 [01:14<00:00,  4.04it/s]\n",
      "test_batch (Avg. Loss 1.748, Accuracy 52.7): 100%|██████████| 38/38 [00:03<00:00, 10.46it/s]\n",
      "*** Saved checkpoint checkpoints/rnn.pt at epoch 24\n",
      "ACT I. SCENE 1.\n",
      "\n",
      "Rome. The Polonius and his brother SERVANT\n",
      "  CRESSIDA. I would not warrant you, tha\n",
      "--- EPOCH 25/50 ---\n",
      "train_batch (Avg. Loss 1.347, Accuracy 60.1): 100%|██████████| 300/300 [01:14<00:00,  4.04it/s]\n",
      "test_batch (Avg. Loss 1.750, Accuracy 52.8): 100%|██████████| 38/38 [00:03<00:00, 10.59it/s]\n",
      "*** Saved checkpoint checkpoints/rnn.pt at epoch 25\n",
      "ACT I. SCENE I.\n",
      "A tale of nothing. I would not forget the prince,\n",
      "    Which shall not be as little i\n",
      "--- EPOCH 26/50 ---\n",
      "train_batch (Avg. Loss 1.344, Accuracy 60.2): 100%|██████████| 300/300 [01:13<00:00,  4.07it/s]\n",
      "test_batch (Avg. Loss 1.746, Accuracy 52.7): 100%|██████████| 38/38 [00:02<00:00, 12.80it/s]\n",
      "*** Saved checkpoint checkpoints/rnn.pt at epoch 26\n",
      "ACT I. SCENE I.\n",
      "A street to present the flesh for the part of the Athenian gates.\n",
      "  TROILUS. I will \n",
      "--- EPOCH 27/50 ---\n",
      "train_batch (Avg. Loss 1.341, Accuracy 60.3): 100%|██████████| 300/300 [01:14<00:00,  4.04it/s]\n",
      "test_batch (Avg. Loss 1.739, Accuracy 52.8): 100%|██████████| 38/38 [00:03<00:00, 12.36it/s]\n",
      "*** Saved checkpoint checkpoints/rnn.pt at epoch 27\n",
      "ACT I. SCENE I.\n",
      "A father and others\n",
      "\n",
      "  BASSIANUS. I will assure you, what are you here?  \n",
      "  CRESSIDA\n",
      "--- EPOCH 28/50 ---\n",
      "train_batch (Avg. Loss 1.338, Accuracy 60.4): 100%|██████████| 300/300 [01:14<00:00,  4.01it/s]\n",
      "test_batch (Avg. Loss 1.740, Accuracy 52.8): 100%|██████████| 38/38 [00:02<00:00, 12.93it/s]\n",
      "*** Saved checkpoint checkpoints/rnn.pt at epoch 28\n",
      "ACT I. SCENE I.\n",
      "The DUKE OF TROILUS and ANTONIO and MARCUS and ATTENDANTS\n",
      "\n",
      "  AGUECHEEK. Ay, and ther\n",
      "--- EPOCH 29/50 ---\n",
      "train_batch (Avg. Loss 1.335, Accuracy 60.4): 100%|██████████| 300/300 [01:12<00:00,  4.11it/s]\n",
      "test_batch (Avg. Loss 1.740, Accuracy 52.9): 100%|██████████| 38/38 [00:04<00:00,  9.27it/s]\n",
      "*** Saved checkpoint checkpoints/rnn.pt at epoch 29\n",
      "ACT I. SCENE I.\n",
      "A man that comes but what they would not be your soul to see.\n",
      "    I will not love yo\n",
      "--- EPOCH 30/50 ---\n",
      "train_batch (Avg. Loss 1.333, Accuracy 60.5): 100%|██████████| 300/300 [01:14<00:00,  4.05it/s]\n",
      "test_batch (Avg. Loss 1.741, Accuracy 52.9): 100%|██████████| 38/38 [00:03<00:00, 12.30it/s]\n",
      "*** Saved checkpoint checkpoints/rnn.pt at epoch 30\n",
      "ACT I. SCENE I.\n",
      "A proud ATHENION\n",
      "\n",
      "  APEMANTUS. What's he that is the meanunt of your place.\n",
      "  CAESAR\n",
      "--- EPOCH 31/50 ---\n",
      "train_batch (Avg. Loss 1.331, Accuracy 60.5): 100%|██████████| 300/300 [01:13<00:00,  4.06it/s]\n",
      "test_batch (Avg. Loss 1.734, Accuracy 53.1): 100%|██████████| 38/38 [00:02<00:00, 13.21it/s]\n",
      "*** Saved checkpoint checkpoints/rnn.pt at epoch 31\n",
      "ACT I. SCENE 3.\n",
      "\n",
      "London. The Duke of TROILUS, and the ACHILLES\n",
      "\n",
      "  CRESSIDA. I would she is sure to s\n",
      "--- EPOCH 32/50 ---\n",
      "train_batch (Avg. Loss 1.329, Accuracy 60.6): 100%|██████████| 300/300 [01:13<00:00,  4.06it/s]\n",
      "test_batch (Avg. Loss 1.728, Accuracy 53.2): 100%|██████████| 38/38 [00:02<00:00, 13.09it/s]\n",
      "*** Saved checkpoint checkpoints/rnn.pt at epoch 32\n",
      "ACT I. SCENE I.\n",
      "The Greeks of GREMIO, and ATHENSER\n",
      "\n",
      "  AGAMEMNON. There's a suitor of it; and by in m\n",
      "--- EPOCH 33/50 ---\n",
      "train_batch (Avg. Loss 1.327, Accuracy 60.7): 100%|██████████| 300/300 [01:14<00:00,  4.03it/s]\n",
      "test_batch (Avg. Loss 1.724, Accuracy 53.3): 100%|██████████| 38/38 [00:03<00:00, 10.32it/s]\n",
      "*** Saved checkpoint checkpoints/rnn.pt at epoch 33\n",
      "ACT I. SCENE 1.\n",
      "\n",
      "London. A street\n",
      "\n",
      "Enter ANTONIO. My lord, I must not be. I shall do you a little st\n",
      "--- EPOCH 34/50 ---\n",
      "train_batch (Avg. Loss 1.324, Accuracy 60.7): 100%|██████████| 300/300 [01:13<00:00,  4.10it/s]\n",
      "test_batch (Avg. Loss 1.735, Accuracy 53.3): 100%|██████████| 38/38 [00:03<00:00, 11.55it/s]\n",
      "*** Saved checkpoint checkpoints/rnn.pt at epoch 34\n",
      "ACT I. SCENE I.\n",
      "A time in the above the field.\n",
      "\n",
      "Enter MARCUS\n",
      "\n",
      "                                      \n",
      "--- EPOCH 35/50 ---\n",
      "train_batch (Avg. Loss 1.322, Accuracy 60.8): 100%|██████████| 300/300 [01:13<00:00,  4.07it/s]\n",
      "test_batch (Avg. Loss 1.727, Accuracy 53.5): 100%|██████████| 38/38 [00:02<00:00, 12.83it/s]\n",
      "*** Saved checkpoint checkpoints/rnn.pt at epoch 35\n",
      "ACT I. SCENE I.\n",
      "A state to be a prisoner.\n",
      "\n",
      "                             Enter AENEAS\n",
      "\n",
      "  CAESAR. Why,\n",
      "--- EPOCH 36/50 ---\n",
      "train_batch (Avg. Loss 1.321, Accuracy 60.8): 100%|██████████| 300/300 [01:14<00:00,  4.01it/s]\n",
      "test_batch (Avg. Loss 1.728, Accuracy 53.3): 100%|██████████| 38/38 [00:02<00:00, 12.71it/s]\n",
      "*** Saved checkpoint checkpoints/rnn.pt at epoch 36\n",
      "ACT I. SCENE I.\n",
      "London. The poor thing he is in my master that I have heard thee straight.\n",
      "    He is\n",
      "--- EPOCH 37/50 ---\n",
      "train_batch (Avg. Loss 1.319, Accuracy 60.8): 100%|██████████| 300/300 [01:13<00:00,  4.07it/s]\n",
      "test_batch (Avg. Loss 1.732, Accuracy 53.3): 100%|██████████| 38/38 [00:03<00:00, 11.44it/s]\n",
      "*** Saved checkpoint checkpoints/rnn.pt at epoch 37\n",
      "ACT I. SCENE 1.\n",
      "\n",
      "London. The bear of the DUCHESS OF YORK and RICHMOND\n",
      "\n",
      "  CRESSIDA. I am sure I can s\n",
      "--- EPOCH 38/50 ---\n",
      "train_batch (Avg. Loss 1.317, Accuracy 60.9): 100%|██████████| 300/300 [01:13<00:00,  4.10it/s]\n",
      "test_batch (Avg. Loss 1.734, Accuracy 53.2): 100%|██████████| 38/38 [00:03<00:00, 11.15it/s]\n",
      "*** Saved checkpoint checkpoints/rnn.pt at epoch 38\n",
      "ACT I. SCENE 1.\n",
      "\n",
      "Come. And the man are your father's son,\n",
      "    When I have said the man and the commo\n",
      "--- EPOCH 39/50 ---\n",
      "train_batch (Avg. Loss 1.315, Accuracy 60.9): 100%|██████████| 300/300 [01:14<00:00,  4.03it/s]\n",
      "test_batch (Avg. Loss 1.736, Accuracy 53.1): 100%|██████████| 38/38 [00:02<00:00, 12.89it/s]\n",
      "*** Saved checkpoint checkpoints/rnn.pt at epoch 39\n",
      "ACT I. SCENE I.\n",
      "The Greeks\n",
      "\n",
      "                              Enter AARON, and I will be no more than ma\n",
      "--- EPOCH 40/50 ---\n",
      "train_batch (Avg. Loss 1.314, Accuracy 61.0): 100%|██████████| 300/300 [01:13<00:00,  4.05it/s]\n",
      "test_batch (Avg. Loss 1.733, Accuracy 53.2): 100%|██████████| 38/38 [00:03<00:00, 12.65it/s]\n",
      "--- Early stopping after 5 epochs without improvement\n"
     ]
    },
    {
     "output_type": "display_data",
     "data": {
      "text/plain": [
       "<Figure size 1600x1000 with 4 Axes>"
      ],
      "image/png": "[encoded data removed]"
     },
     "metadata": {}
    }
   ],
   "source": [
    "from helpers.plot import plot_fit\n",
    "\n",
    "def post_epoch_fn(epoch, test_res, train_res, verbose):\n",
    "    # Update learning rate\n",
    "    scheduler.step(test_res.accuracy)\n",
    "    # Sample from model to show progress\n",
    "    if verbose:\n",
    "        start_seq = \"ACT I.\"\n",
    "        generated_sequence = charnn.generate_from_model(\n",
    "            model, start_seq, 100, (char_to_idx,idx_to_char), T=0.5\n",
    "        )\n",
    "        print(generated_sequence)\n",
    "\n",
    "# Train, unless final checkpoint is found\n",
    "checkpoint_file_final = f'{checkpoint_file}_final.pt'\n",
    "if os.path.isfile(checkpoint_file_final):\n",
    "    print(f'*** Loading final checkpoint file {checkpoint_file_final} instead of training')\n",
    "    saved_state = torch.load(checkpoint_file_final, map_location=device)\n",
    "    model.load_state_dict(saved_state['model_state'])\n",
    "else:\n",
    "    try:\n",
    "        # Print pre-training sampling\n",
    "        print(charnn.generate_from_model(model, \"ACT I.\", 100, (char_to_idx,idx_to_char), T=0.5))\n",
    "\n",
    "        fit_res = trainer.fit(dl_train, dl_test, num_epochs, max_batches=max_batches,\n",
    "                              post_epoch_fn=post_epoch_fn, early_stopping=early_stopping,\n",
    "                              checkpoints=checkpoint_file, print_every=1)\n",
    "\n",
    "        fig, axes = plot_fit(fit_res)\n",
    "    except KeyboardInterrupt as e:\n",
    "        print('\\n *** Training interrupted by user')"
   ]
  },
  {
   "cell_type": "markdown",
   "metadata": {
    "id": "2QSJiyFHdvAC"
   },
   "source": [
    "### Generating a work of art\n",
    "<a id=part1_8></a>"
   ]
  },
  {
   "cell_type": "markdown",
   "metadata": {
    "id": "rNBpJ3bPdvAD"
   },
   "source": [
    "Armed with our fully trained model, let's generate the next Hamlet! You should experiment with modifying the sampling temperature and see what happens.\n",
    "\n",
    "**TODO**: Specify the generation parameters in the `part1_generation_params()` function within the `hw3/answers.py` module."
   ]
  },
  {
   "cell_type": "code",
   "execution_count": 22,
   "metadata": {
    "colab": {
     "base_uri": "https://localhost:8080/"
    },
    "id": "z16TmdWDdvAD",
    "outputId": "94cb71db-8351-4a5f-a43d-07e3892d1e78"
   },
   "outputs": [
    {
     "output_type": "stream",
     "name": "stdout",
     "text": [
      "Prince of Denmark stood in the wars;\n",
      "    And in thy bed is pass'd to she not shall not see you all and seel your hand\n",
      "    In the sea in the master and his action, and be brief,\n",
      "    That shall I change the time of proud friends,\n",
      "    And that the state of this man doth all the moon to say a matter.\n",
      "    Go to, my lord, the world and so much be a bastard that I am in a strange strange and fearful first;\n",
      "    But no more than he shall be there on the wars. I will not see him to the call of men and word,\n",
      "    And not to me in wealth and many faces of my life; and I will seem thy soul\n",
      "    That it doth not his face be court's your great actions now to be a soul\n",
      "    To be a back. Prove company not for your shape,\n",
      "    I would not stay in me; I will be dead; in this fair part of my soul and the hand of my soul,\n",
      "    And see the way of the sense of the very state of my sight.\n",
      "    What make you lay a man and make a hand in my heart?\n",
      "    I pray you, good my lord.\n",
      "  CRESSIDA. I should not stay the instant that the gods do command me to the court\n",
      "    In little finger of a wit, and the earth of the state of the action,\n",
      "    And she is a private prison, and my wife is all thy strong and good beauty; but I have been the complexion of the time,\n",
      "    Who should not fly to the meaning of your life.\n",
      "    But what do you provide the sight of many of my heart is here?\n",
      "    I am not what you promise you to strike the shame of death.\n",
      "    It is not you are not to see the time of all the state\n",
      "    That what is a breath of my sons. You are a san that be dead,\n",
      "    In brother many times the sea of his desires,\n",
      "    And made the street of wit. I have no more than brother shall be made.\n",
      "    I have not been for chance of that may give me the stars,\n",
      "    And let him have the first that be the stone of my action in the street,\n",
      "    The rest were strangely as the great way of my death.\n",
      "                                                  Exeunt\n",
      "\n",
      "SCENE VII.\n",
      "London. The Petruchio, and ATTENDANTS\n",
      "\n",
      "  CIES. No, no, no, no, I cannot go and speak to thee.\n",
      "    I am a witch, the sovereign of the night;  \n",
      "    There is no bounty in the heart of deeds.\n",
      "    The lady is the friends of war in faith,\n",
      "    The baling of the sound of many truth; and therefore show you a man?                                                                                                                                                                                                                                                                                                                                                                                                                                                                                                                                                                                                                                Exit\n",
      "  CLOWN. Good morrow, come, good morrow.                                                                                                                                                                                                                                                                                                                   Exit PANDARUS, and IBANSO, and AARON, the PATROCLUS and SIR TOBY and AENEAS\n",
      "\n",
      "  AJAX. I do not stay with me, I am a fair palace.\n",
      "    How nows of the court, of men shall be a fool to come to crown\n",
      "    Where he was great a window of the state of him,\n",
      "    Whose eyes shall tell you the man that are the show,\n",
      "    With the field with him with that same princely traitor,\n",
      "    And that she be not so that I must do with me to know\n",
      "    That I am sorrow to be prophet for a state;\n",
      "    And she is gone. It is not so a wall of the town.\n",
      "  CRESSIDA. I will not take your hand with sorrow and a thousand fathers and my sons,\n",
      "    Who shall not be a valour of the death.\n",
      "    I have a little one of man you may be made in my part of your speech;\n",
      "    And if the very part of the devil give him honour for a second banished and the devil.\n",
      "    I should not stay the virtue of the town of death,\n",
      "    Be sure we must not well attend you a man.\n",
      "  ULYSSES. You are welcome.\n",
      "    O, what a patience be content to come to me?\n",
      "    I will not then be sick and done. What mean you, sir?\n",
      "  CRESSIDA. Where's the man that I charge you to accusation of my body.\n",
      "  BASSIANUS. I will not to the proud Titus, there's no more than sheet of him.\n",
      "    I see the sea is made of truth; and when they would not strike\n",
      "    The such a point of nature I shall see my love.\n",
      "    But what is yours to see the world with me to hear thee do the state?\n",
      "    I shall not say that I am sorry that I may do it.\n",
      "    Come, come, and then, and speak with you, Master Shallow, I am sure I have my father's love-\n",
      "    I shall not be as we are damn'd in the deeds of the soul\n",
      "    And be a pleasure and conveyance.\n",
      "    What, will you not stay the world in many son that ever said the sea?\n",
      "                                                                                                                                                                                                                                                                                      Exeunt CATESBY, and ACHILLES, with the least that I have a scruple to be hang'd.\n",
      "    I will not find it how the body in the ground of me;\n",
      "    If not a noble man in my brain to see a man may be as a little tame,\n",
      "    Come to the manner of the rain of death.\n",
      "    I will be paid with me and me, the streets of him.\n",
      "  CRESSIDA. Farewell, my lord, I will not for your son.\n",
      "                                                                                                                                                                                                                                                                                                                                                                                                                                                                                                                                                                                                                                                                                                                                                                                                                                                                                                                                                                                                                                                                                                                                                                                                                                    Exit with his train\n",
      "\n",
      "  PANDARUS. I would you will not stay the subject of the kings of man,\n",
      "    By my life in my sight and soul in Troy,\n",
      "    And patience and the devil do shall be the first of him.\n",
      "    I can make so much beat the man doth be a short and land.\n",
      "    There's a fool is depread and make the sea and brothers to the feast;\n",
      "    But what a poor as wear it is a precious fill,\n",
      "    Which I will see you for a true leave to do it.\n",
      "    Some of thy father and his sons again,\n",
      "    And she hath from the way of war and love upon what sense is so stood to be fair and call'd him to the patron of my life.\n",
      "    I cannot be empty dead, and the general is dead,\n",
      "    Wherereed my battle of this man in my fair Troyan straw me in the beast,\n",
      "    Whereof the spirit of my allow me a care to th' earth?\n",
      "    And I have seen the heavy passion of my words,\n",
      "    That shall be well said, as you do not fall again.                                                                                                                                                                                                          Exeunt all but ELIZOBETH and ALICE\n",
      "\n",
      "  AGUECHEEK. I'll tell you what I shall not live to be a same desire to stay\n",
      "    The palace of the foolish life,\n",
      "    And let me be the field.\n",
      "  VIOLA. I am not so, sir. I will discover the more than a man in some man.\n",
      "    He is not a state of the matter of the field.\n",
      "    Here comes the man so noble bear his father hath in hand\n",
      "    That I have set my father's barren and the shame to hear me.\n",
      "                                                                                                                                      Exit IACHIMO\n",
      "                                                                                                                                                                                                                                                                                                                                                                                                   Exit SERVANT\n",
      "\n",
      "  CRESSIDA. I will be not a true strange sight.  \n",
      "    I will not for my son your will.  \n",
      "  TROILUS. I know her great heart, my lord, I'll see your Grace.\n",
      "    I would the fortune should be of my lady's breath;\n",
      "    I shall be satisfied to give you this own court of him.\n",
      "    He is the best as gentle as you are a sacrifice of my heart.\n",
      "  PANDARUS. I will be satisfied in my lord.\n",
      "  CRESSIDA. I will not see him so in peace which thou wilt not make the world and me.\n",
      "    In death I shall not live to be a lie and so well sent so dog, and there is no more father's son;\n",
      "    And that you take the sight of spark, and refuse in the world be paid\n",
      "    To revenge the meaning in the state of words and sweet single conscience looks as well as I will stay\n",
      "    To the devil in this devil in him.\n",
      "    My son shall go with the gods and my dear lord and fortune\n",
      "    May be that I am so better than a base desire of this desire;\n",
      "    I have not so out of your action and the youth\n",
      "    Of the instruction of the valour of the law,\n",
      "    And be a villain in the streets of me.\n",
      "    There is no strange that hand of me and show you the action of the chain.\n",
      "    I do not know the\n"
     ]
    }
   ],
   "source": [
    "import hw3.answers\n",
    "\n",
    "start_seq, temperature = hw3.answers.part1_generation_params()\n",
    "\n",
    "generated_sequence = charnn.generate_from_model(\n",
    "    model, start_seq, 10000, (char_to_idx,idx_to_char), T=temperature\n",
    ")\n",
    "\n",
    "print(generated_sequence)"
   ]
  },
  {
   "cell_type": "markdown",
   "metadata": {
    "id": "Qcog1RQJdvAE"
   },
   "source": [
    "## Questions\n",
    "<a id=part1_9></a>"
   ]
  },
  {
   "cell_type": "markdown",
   "metadata": {
    "id": "fUVbQmg-dvAE"
   },
   "source": [
    "**TODO** Answer the following questions. Write your answers in the appropriate variables in the module `hw3/answers.py`."
   ]
  },
  {
   "cell_type": "code",
   "execution_count": 23,
   "metadata": {
    "id": "XZVMI1R5dvAF"
   },
   "outputs": [],
   "source": [
    "from helpers.answers import display_answer\n",
    "import hw3.answers"
   ]
  },
  {
   "cell_type": "code",
   "execution_count": 23,
   "outputs": [],
   "source": [],
   "metadata": {
    "id": "tlJlNZ1PdvAF"
   }
  },
  {
   "cell_type": "code",
   "execution_count": 23,
   "outputs": [],
   "source": [],
   "metadata": {
    "id": "9jMMJY4YdvAG"
   }
  },
  {
   "cell_type": "markdown",
   "metadata": {
    "id": "SuTwf9andvAG"
   },
   "source": [
    "### Question 1\n",
    "Why do we split the corpus into sequences instead of training on the whole text?"
   ]
  },
  {
   "cell_type": "code",
   "execution_count": 24,
   "metadata": {
    "colab": {
     "base_uri": "https://localhost:8080/",
     "height": 120
    },
    "id": "HnFG06lQdvAH",
    "outputId": "feb0765e-5085-48c8-8bc9-4cd3ae7b5d8d"
   },
   "outputs": [
    {
     "output_type": "display_data",
     "data": {
      "text/plain": [
       "<IPython.core.display.Markdown object>"
      ],
      "text/markdown": "\nThere are some reasons:\n\n1. processing the entire text as a single input sequence can be computationally expensive\n2. training on smaller sequences prevents vanishing or exploding gradient problems that can occur when processing long sequences.\n3. it encourages the model to learn higher-level patterns and generate creative outputs\n\n"
     },
     "metadata": {}
    }
   ],
   "source": [
    "display_answer(hw3.answers.part1_q1)"
   ]
  },
  {
   "cell_type": "markdown",
   "metadata": {
    "id": "RngsP5NwdvAI"
   },
   "source": [
    "### Question 2\n",
    "How is it possible that the generated text clearly shows memory longer than the sequence length?"
   ]
  },
  {
   "cell_type": "code",
   "execution_count": 25,
   "metadata": {
    "colab": {
     "base_uri": "https://localhost:8080/",
     "height": 46
    },
    "id": "zk7kL3WzdvAI",
    "outputId": "612916fa-c2dd-4823-d501-7fa57522912a"
   },
   "outputs": [
    {
     "output_type": "display_data",
     "data": {
      "text/plain": [
       "<IPython.core.display.Markdown object>"
      ],
      "text/markdown": "\n\nThe hidden states of the model retains information from previously generated text, \nit allows the model to exhibit memory longer than the individual sequence length.\n\n"
     },
     "metadata": {}
    }
   ],
   "source": [
    "display_answer(hw3.answers.part1_q2)"
   ]
  },
  {
   "cell_type": "markdown",
   "source": [],
   "metadata": {
    "collapsed": false,
    "id": "V8BpUUWYdvAJ"
   }
  },
  {
   "cell_type": "markdown",
   "metadata": {
    "id": "UyJXNPg4dvAJ"
   },
   "source": [
    "### Question 3\n",
    "Why are we not shuffling the order of batches when training?"
   ]
  },
  {
   "cell_type": "code",
   "execution_count": 26,
   "metadata": {
    "colab": {
     "base_uri": "https://localhost:8080/",
     "height": 64
    },
    "id": "8qHHYQsMdvAK",
    "outputId": "857c65b0-1a85-44d6-df29-8f1dc852caee"
   },
   "outputs": [
    {
     "output_type": "display_data",
     "data": {
      "text/plain": [
       "<IPython.core.display.Markdown object>"
      ],
      "text/markdown": "\n\nIn RNN the order of the data is important, each batch relies on the hidden state and information learned from the previous batch.\nAlso the gradients are propagated through time steps within each batch\n\n\n"
     },
     "metadata": {}
    }
   ],
   "source": [
    "display_answer(hw3.answers.part1_q3)"
   ]
  },
  {
   "cell_type": "markdown",
   "metadata": {
    "id": "yC_zoBJAdvAL"
   },
   "source": [
    "### Question 4\n",
    "1. Why do we lower the temperature for sampling (compared to the default of $1.0$ when training)?\n",
    "2. What happens when the temperature is very high and why?\n",
    "3. What happens when the temperature is very low and why?"
   ]
  },
  {
   "cell_type": "code",
   "execution_count": 27,
   "metadata": {
    "colab": {
     "base_uri": "https://localhost:8080/",
     "height": 144
    },
    "id": "-41FdFC9dvAL",
    "outputId": "2afe8228-c305-4861-b8ef-9b00e4730e24"
   },
   "outputs": [
    {
     "output_type": "display_data",
     "data": {
      "text/plain": [
       "<IPython.core.display.Markdown object>"
      ],
      "text/markdown": "\n\n1. The temperature controls the level of randomness in the generated text, for lower values\nit decreases the randomness, hence we get more appropriate words.\n\n2. When the temperature is very high, the softmax emphasises the lower score\nwhich makes the output distribution more uniformly, and then we can more surprised of the network choices.\n\n3. When the temperature is very low, the softmax flattens the distribution,\nwhich makes only the high values to be relevant and therefore the generated word.\n\n"
     },
     "metadata": {}
    }
   ],
   "source": [
    "display_answer(hw3.answers.part1_q4)"
   ]
  },
  {
   "cell_type": "code",
   "execution_count": 27,
   "outputs": [],
   "source": [],
   "metadata": {
    "id": "6muGarnRdvAM"
   }
  }
 ],
 "metadata": {
  "kernelspec": {
   "display_name": "Python 3",
   "name": "python3"
  },
  "language_info": {
   "codemirror_mode": {
    "name": "ipython",
    "version": 3
   },
   "file_extension": ".py",
   "mimetype": "text/x-python",
   "name": "python",
   "nbconvert_exporter": "python",
   "pygments_lexer": "ipython3",
   "version": "3.10.9"
  },
  "colab": {
   "provenance": [],
   "gpuType": "T4"
  },
  "accelerator": "GPU"
 },
 "nbformat": 4,
 "nbformat_minor": 0
}
